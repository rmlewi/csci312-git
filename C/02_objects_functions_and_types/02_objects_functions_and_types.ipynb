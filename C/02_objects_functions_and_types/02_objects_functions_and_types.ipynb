{
 "cells": [
  {
   "cell_type": "markdown",
   "id": "c7bfc8b6-c370-44dc-94a4-5fe4e124cb60",
   "metadata": {},
   "source": [
    "<div style=\"text-align:center;\">\n",
    "    <img src=\"http://www.cs.wm.edu/~rml/images/wm_horizontal_single_line_full_color.png\">\n",
    "    <h1>CSCI 312, Fall 2025</h1>\n",
    "    <h1>Effective C, Chapter 2</h1>\n",
    "    <h1>Objects, functions, and types</h1>\n",
    "</div>"
   ]
  },
  {
   "cell_type": "markdown",
   "id": "cb0b72ef-27e8-47cf-a7bb-47224741970c",
   "metadata": {},
   "source": [
    "# Python vs. C vs. C++\n",
    "\n",
    "|           | Python          | C            | C++   | Java  |\n",
    "| :--------:| :-------------: | :----------: | :---: | :---: |\n",
    "| Booleans | True, False | true, false | same as C | same as C |\n",
    "| ```char``` type |    | ```char``` | same as C | same as C |\n",
    "| character literals |  | ```'a'```, ```'b'``` | same as C | same as C |\n",
    "| Unicode characters | ```\\uxxxx``` or ```\\Uxxxxxxxx``` | same | same | same |"
   ]
  },
  {
   "cell_type": "markdown",
   "id": "12f90bb8-5abf-42cc-b562-3b00c34d6064",
   "metadata": {},
   "source": [
    "# Calling functions in C\n",
    "\n",
    "C distinguishes between function **parameters**, which are placeholders that appear in a function declaration, and **arguments**, which are real values passed in a function call.\n",
    "\n",
    "C is **call-by-value**: when a function is called, copies of its arguments are passed to the function.\n",
    "\n",
    "By way of comparison, Fortran is a **call-by-reference** language: when a function is called, references (pointers) to the arguments are passed to the function.  Call-by-reference allows functions to modify objects in the calling environment.\n",
    "\n",
    "Python is schizophrenic:\n",
    "* it is call-by-value for some types of arguments (primitive types such as `int` and `float`);\n",
    "* it is call-by-reference for other types of arguments (compound types such as `list` or `dict`)."
   ]
  },
  {
   "cell_type": "code",
   "execution_count": null,
   "id": "06087b51-99f7-4498-8052-36fdfc121116",
   "metadata": {},
   "outputs": [],
   "source": [
    "cat -n src/bad_swap_main.c"
   ]
  },
  {
   "cell_type": "code",
   "execution_count": null,
   "id": "ed13757b-c3dc-4f8c-ad8f-d13e864b19f7",
   "metadata": {},
   "outputs": [],
   "source": [
    "cat -n src/bad_swap.c"
   ]
  },
  {
   "cell_type": "code",
   "execution_count": null,
   "id": "aa1f5a7b-4071-470c-9c5d-9d44656338f7",
   "metadata": {},
   "outputs": [],
   "source": [
    "gcc -std=c23 src/bad_swap.c src/bad_swap_main.c"
   ]
  },
  {
   "cell_type": "code",
   "execution_count": null,
   "id": "68a673a8-9f9a-4d61-b60e-55f9794f9ba4",
   "metadata": {},
   "outputs": [],
   "source": [
    "./a.out"
   ]
  },
  {
   "cell_type": "markdown",
   "id": "19685aa8-51a0-48cc-9032-4e4e74b5600e",
   "metadata": {},
   "source": [
    "The solution is to use call-by-reference.  But how?\n",
    "\n",
    "Solution: pass the addresses of the arguments!  These will be copied (call-by-value) but still allow access to `a` and `b` in the calling environment."
   ]
  },
  {
   "cell_type": "code",
   "execution_count": null,
   "id": "f850c5cd-0514-4364-a304-bcc4e0750df4",
   "metadata": {},
   "outputs": [],
   "source": [
    "cat -n src/good_swap.c"
   ]
  },
  {
   "cell_type": "code",
   "execution_count": null,
   "id": "afa2bb67-9a45-44bd-ba9f-3ac03b25644e",
   "metadata": {},
   "outputs": [],
   "source": [
    "gcc -std=c23 src/good_swap.c src/bad_swap_main.c"
   ]
  },
  {
   "cell_type": "code",
   "execution_count": null,
   "id": "47946b52-18bb-4af7-a370-acafa05b1ad3",
   "metadata": {},
   "outputs": [],
   "source": [
    "./a.out"
   ]
  },
  {
   "cell_type": "markdown",
   "id": "499dd115-f4cf-41fd-be4c-5b69fc9b48f5",
   "metadata": {},
   "source": [
    "Oops!  The prototype in `bad_swap_main.c` is incorrect and allows us to pass arguments of the wrong type to our swap routine."
   ]
  },
  {
   "cell_type": "code",
   "execution_count": null,
   "id": "2dbb0282-eed4-4394-997f-065b995c6201",
   "metadata": {},
   "outputs": [],
   "source": [
    "cat -n src/good_swap_main.c"
   ]
  },
  {
   "cell_type": "code",
   "execution_count": null,
   "id": "e443bb3a-a25d-4656-8db8-5adc5a33946d",
   "metadata": {},
   "outputs": [],
   "source": [
    "gcc -std=c23 src/good_swap.c src/good_swap_main.c"
   ]
  },
  {
   "cell_type": "code",
   "execution_count": null,
   "id": "9c3177cf-3061-40fb-8cc7-2192aa2ff16d",
   "metadata": {},
   "outputs": [],
   "source": [
    "cat -n src/final_swap_main.c"
   ]
  },
  {
   "cell_type": "code",
   "execution_count": null,
   "id": "8ebbc598-6a5d-4f19-b043-2905bdde84e2",
   "metadata": {},
   "outputs": [],
   "source": [
    "cat -n src/final_swap.c"
   ]
  },
  {
   "cell_type": "code",
   "execution_count": null,
   "id": "82a2c733-e11d-481b-bbda-16e3604eed05",
   "metadata": {},
   "outputs": [],
   "source": [
    "gcc -std=c23 src/final_swap.c src/final_swap_main.c"
   ]
  },
  {
   "cell_type": "code",
   "execution_count": null,
   "id": "ab946072-8b7b-436b-8907-71b9218ae10d",
   "metadata": {},
   "outputs": [],
   "source": [
    "./a.out"
   ]
  },
  {
   "cell_type": "markdown",
   "id": "7a022bc2-5a58-4240-be16-ae118fb5ccb2",
   "metadata": {},
   "source": [
    "# Type inference\n",
    "\n",
    "Starting with C23, C now has type inference, just like Python!"
   ]
  },
  {
   "cell_type": "code",
   "execution_count": null,
   "id": "af93fca2-5f14-4597-ba56-9dc6070cd391",
   "metadata": {},
   "outputs": [],
   "source": []
  },
  {
   "cell_type": "code",
   "execution_count": null,
   "id": "783f51c9-1515-48bb-acfa-b7462871ebdf",
   "metadata": {},
   "outputs": [],
   "source": [
    "cat -n src/auto.c"
   ]
  },
  {
   "cell_type": "markdown",
   "id": "fba3b3cc-3e54-4e11-9338-cdb2323e0b11",
   "metadata": {},
   "source": [
    "# Booleans\n",
    "\n",
    "Until C11, C did not have a boolean type.  Instead, we made do with `0` for false and `1` for true.\n",
    "\n",
    "C now has a first-class boolean type, `bool`.  A boolean can take one of two values, `true` and `false`."
   ]
  },
  {
   "cell_type": "code",
   "execution_count": null,
   "id": "a4536d5a-08dc-4936-afd6-7cc5f5ab6866",
   "metadata": {},
   "outputs": [],
   "source": [
    "cat -n src/bool.c"
   ]
  },
  {
   "cell_type": "code",
   "execution_count": null,
   "id": "c644f0c6-47c2-4f19-af2a-412f9ad634d8",
   "metadata": {},
   "outputs": [],
   "source": [
    "gcc -std=c23 src/bool.c"
   ]
  },
  {
   "cell_type": "code",
   "execution_count": null,
   "id": "e2de1ddf-1b52-4c0b-b56b-72ffc15069ac",
   "metadata": {},
   "outputs": [],
   "source": [
    "./a.out"
   ]
  },
  {
   "cell_type": "markdown",
   "id": "6506ac2b-3587-4ddd-882c-89a9a63ce09a",
   "metadata": {},
   "source": [
    "# Characters\n",
    "\n",
    "C distinguishes between characters and strings.  A ```char``` is a single character, while a string is a sequence of characters.\n",
    "\n",
    "A character is of type ```char```.  A character is delimited by single-quotes ```' '```, but the delimiting quotes are not part of the character."
   ]
  },
  {
   "cell_type": "markdown",
   "id": "e3f7e9a5-26b5-49c5-aa98-3e1c3049fa9f",
   "metadata": {},
   "source": [
    "In C there is a duality between characters and integers.  For instance, the ASCII character ```0``` is represented by the 8 bit (1 byte) binary number ```00110000```.  Alternatively, we can think of these bits as representing the decimal number 48.\n",
    "\n",
    "This should be familiar from Python:\n",
    "* the `ord()` function takes a one-character string as its input and returns the Unicode code point for that character;\n",
    "* the `chr()` function takes an integer and returns the character corresponding to that Unicode code point."
   ]
  },
  {
   "cell_type": "code",
   "execution_count": null,
   "id": "380d9c35-eacd-4e09-9955-6aafd7cc1223",
   "metadata": {},
   "outputs": [],
   "source": [
    "cat -n src/char.py"
   ]
  },
  {
   "cell_type": "code",
   "execution_count": null,
   "id": "2a1f0c9f-9039-4fd0-bb82-0504f203a1f3",
   "metadata": {},
   "outputs": [],
   "source": [
    "python src/char.py"
   ]
  },
  {
   "cell_type": "markdown",
   "id": "9547a053-fc4a-4c94-8db6-dd31a17f811f",
   "metadata": {},
   "source": [
    "The fact that characters can be interpreted as integers means we can perform arithmetic with them:"
   ]
  },
  {
   "cell_type": "code",
   "execution_count": null,
   "id": "7bea0cf2-9997-43f6-bdd9-f723a1ce30f7",
   "metadata": {},
   "outputs": [],
   "source": [
    "cat -n src/char.c"
   ]
  },
  {
   "cell_type": "code",
   "execution_count": null,
   "id": "ca5028cb-1362-4d27-aeb0-0b5109b8b7e7",
   "metadata": {},
   "outputs": [],
   "source": [
    "gcc -std=c23 src/char.c"
   ]
  },
  {
   "cell_type": "code",
   "execution_count": null,
   "id": "f7ca61e1-6b78-48f9-ae7d-596828539955",
   "metadata": {},
   "outputs": [],
   "source": [
    "./a.out"
   ]
  },
  {
   "cell_type": "markdown",
   "id": "8a18a4c8-c68a-4b2b-87fd-a37ed57b22d2",
   "metadata": {},
   "source": [
    "# Arrays\n",
    "\n",
    "An **array** in C is like Python's [```array```](https://docs.python.org/3/library/array.html) or Numpy's [```ndarray```](https://numpy.org/doc/stable/user/quickstart.html).  An array is a contiguous chunk of memory set aside to hold some number of variables of the same type.\n",
    "\n",
    "We refer to individual items in an array by index, with indexing starting at `0`.\n",
    "\n",
    "C arrays are declared as follows:\n",
    "<code>\n",
    "int n[42];    /* An array that can hold 42 ints. */\n",
    "float x[54];  /* An array that can hold 54 floats. */\n",
    "</code>\n",
    "\n",
    "Array sizes can be variables:"
   ]
  },
  {
   "cell_type": "code",
   "execution_count": null,
   "id": "0ee5ee31-6520-4afe-8419-c2bd8714c7ea",
   "metadata": {},
   "outputs": [],
   "source": [
    "cat -n src/variable_size.c"
   ]
  },
  {
   "cell_type": "code",
   "execution_count": null,
   "id": "f241d0a3-b613-4814-b30f-514c1c26a7f8",
   "metadata": {},
   "outputs": [],
   "source": [
    "gcc -std=c23 -Wall -pedantic src/variable_size.c"
   ]
  },
  {
   "cell_type": "code",
   "execution_count": null,
   "id": "e88aa13c-8cc2-4049-bdce-ca11d8625040",
   "metadata": {},
   "outputs": [],
   "source": [
    "./a.out"
   ]
  },
  {
   "cell_type": "markdown",
   "id": "74431fcc-34c7-40df-997a-47495f709190",
   "metadata": {},
   "source": [
    "Unlike Python and its `len()` function, there is no way to determine the length of a C array at runtime.  You will need to keep track of it yourself."
   ]
  },
  {
   "cell_type": "markdown",
   "id": "1bcf1170-d986-4a36-b9fc-1f8304a99a0a",
   "metadata": {},
   "source": [
    "<img src=\"https://www.cs.wm.edu/~rml/images/danger.svg\" style=\"height: 30px\"> Losing track of array lengths is a common source of bugs. 🐞 🐞"
   ]
  },
  {
   "cell_type": "markdown",
   "id": "16f6c497-1994-4f5e-832b-a073de6942ae",
   "metadata": {},
   "source": [
    "C arrays differ from Python lists in several ways.\n",
    "1.  An array is a contiguous region of memory, while the items in a list may be scattered across memory.  The contiguity turns out to be important in how we can access elements of an array.\n",
    "2.  All of the items in an array must be of the same type, unlike a Python list.  This is because in order to allocate space for the array and look up array elements by index we need to know the width of the elements in bytes.  For instance, if we have an array of 4 byte integers, we know the first element occupies bytes 0 to 3, and the second element starts at an address 4 bytes past the beginning of the array.  Address arithmetic is an important part of C that we will discuss later.\n",
    "3.  C does not perform checking for out-of-bounds indexes.  This is because performing such a check on each array access will slow things down. C is not alone in this; both Fortran and C++ do not perform array bounds checking."
   ]
  },
  {
   "cell_type": "markdown",
   "id": "e99a1d02-8392-4ca0-85d4-0558524f3c50",
   "metadata": {},
   "source": [
    "<img src=\"https://www.cs.wm.edu/~rml/images/danger.svg\" style=\"height: 30px\"> 😱🐞 C does not perform bounds checking on arrays.  C is perfectly happen to let you read or write past the ends of an array. 🐞😱"
   ]
  },
  {
   "cell_type": "markdown",
   "id": "044005ea-30ec-4954-a839-e4ccfefbf18e",
   "metadata": {},
   "source": [
    "<img src=\"https://www.cs.wm.edu/~rml/images/danger.svg\" style=\"height: 30px\"/> Reading past the end of a string can lead to subtle bugs. It can also lead to dramatic bugs. 🐞 🐞"
   ]
  }
 ],
 "metadata": {
  "kernelspec": {
   "display_name": "Bash",
   "language": "bash",
   "name": "bash"
  },
  "language_info": {
   "codemirror_mode": "shell",
   "file_extension": ".sh",
   "mimetype": "text/x-sh",
   "name": "bash"
  }
 },
 "nbformat": 4,
 "nbformat_minor": 5
}
