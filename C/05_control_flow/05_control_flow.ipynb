{
 "cells": [
  {
   "cell_type": "markdown",
   "id": "1c7e450d",
   "metadata": {},
   "source": [
    "<div style=\"text-align:center;\">\n",
    "    <img src=\"http://www.cs.wm.edu/~rml/images/wm_horizontal_single_line_full_color.png\">\n",
    "    <h1>CSCI 312, Fall 2025</h1>\n",
    "    <h1>Effective C, Chapter 5</h1>\n",
    "    <h1>Control flow</h1>\n",
    "</div>"
   ]
  },
  {
   "cell_type": "markdown",
   "id": "f8bcc386",
   "metadata": {},
   "source": [
    "# Contents\n",
    "\n",
    "* [Statements and blocks](#Statements-and-blocks)\n",
    "* [The <code class=\"kw\">if</code> statement](#The-if-statement)\n",
    "* [The <code class=\"kw\">while</code> statement](#The-while-statement)\n",
    "* [The unary increment and decrement](#The-unary-increment-and-decrement)\n",
    "* [ The <code class=\"kw\">for</code> statement](#The-for-statement)\n",
    "* [The <code class=\"kw\">do</code> statement](#The-do-statement)\n",
    "* [The <code class=\"kw\">break</code> and <code class=\"kw\">continue</code> statements](#The-break-and-continue-statements)\n",
    "* [The <code class=\"kw\">switch</code> statement](#The-switch-statement)\n",
    "* [The <code class=\"kw\">goto</code> statement](#The-goto-statement)\n",
    "    * [When should I ever use a <code class=\"kw\">goto</code>?](#when_goto)\n",
    "    * [The Apple <code>goto fail</code> bug](#goto_fail)"
   ]
  },
  {
   "cell_type": "markdown",
   "id": "611e08d9",
   "metadata": {},
   "source": [
    "# Python vs. C vs. C++ vs Java\n",
    "\n",
    "For the most part the flow control in C is similar to that in Python, though C has a few constructs that Python lacks.\n",
    "\n",
    "|           | Python          | C            | C++   | Java |\n",
    "| :--------:| :-------------: | :----------: | :---: | :---: |\n",
    "| conditional expression | ```expr2 if expr1 else expr3```  | ```expr1 ? expr2 : expr3``` | same as C | same as C|\n",
    "| conditionals | ```if expr:```   | ```if (expr) {}```   | same as C | same as C |\n",
    "|              | ```elif expr:```   | ```else if (expr) {}```   | same as C | same as C |\n",
    "|              | ```else:```   | ```else {}```   | same as C | same as C |\n",
    "| iteration   | ```while expr:``` | ```while (expr) {}``` | same as C | same as C |\n",
    "|   | ```for i in iterable:``` |  | range for: ```for (i : object)``` | foreach: ```for (i : object)```  |\n",
    "|              |  | ```for (expr1; expr2; expr3) {}``` | same as C | same as C |\n",
    "|              |  | ```do {} while (expr);``` | same as C | same as C |\n",
    "|              | ```break``` | ```break;``` | same as C | same as C + break and branch |\n",
    "|              | ```continue``` | ```continue;``` | same as C | same as C + continue and branch |\n",
    "| choice       |               | ```switch``` | same as C | same as C |\n",
    "| branch       |                | ```goto label;``` | same as C | |\n",
    "\n",
    "<sup>1</sup> The 2020 revision of C++ added a three-way comparison operator `<=>`, also known as \"the spaceship\"."
   ]
  },
  {
   "cell_type": "markdown",
   "id": "35a9ad66",
   "metadata": {},
   "source": [
    "# Statements, blocks, and scope\n",
    "\n",
    "C/C++ use squiggly brackets ```{ }``` to group variable declarations and statements together in a **compound statement** or **block**.  \n",
    "\n",
    "Indentation is syntactically irrelevant in C/C++/Java; however, it is customary to indent the body of a block, and language-aware editors usually do."
   ]
  },
  {
   "cell_type": "code",
   "execution_count": null,
   "id": "d7ec0554",
   "metadata": {},
   "outputs": [],
   "source": [
    "cat -n src/scope.c"
   ]
  },
  {
   "cell_type": "code",
   "execution_count": null,
   "id": "2c558b73",
   "metadata": {},
   "outputs": [],
   "source": [
    "gcc src/scope.c"
   ]
  },
  {
   "cell_type": "code",
   "execution_count": null,
   "id": "4829157e",
   "metadata": {},
   "outputs": [],
   "source": [
    "./a.out"
   ]
  },
  {
   "cell_type": "markdown",
   "id": "01ef45ec",
   "metadata": {},
   "source": [
    "In the preceding statement we declared the variable ```i``` inside the ```for``` statement.  This makes the variable local to the block (**block scope**).  If we try to reference the variable outside the block we encounter an error:"
   ]
  },
  {
   "cell_type": "code",
   "execution_count": null,
   "id": "bb5bbb2b",
   "metadata": {},
   "outputs": [],
   "source": [
    "cat -n src/scope2.c"
   ]
  },
  {
   "cell_type": "code",
   "execution_count": null,
   "id": "83ab6c26",
   "metadata": {},
   "outputs": [],
   "source": [
    "gcc src/scope2.c"
   ]
  },
  {
   "cell_type": "markdown",
   "id": "95064388",
   "metadata": {},
   "source": [
    "In the error message that begins with\n",
    "\n",
    "```scope2.c:8:43```\n",
    "\n",
    "the ```8``` indicates the line at which the error was detected and the ```43``` indicates at which character (starting with zero) in the line at which the compiler recognized there was an error:\n",
    "<pre>\n",
    "123456789+123456789+123456789+123456789+123456789+\n",
    "  printf(\"just after the loop, i = %d\\n\", i);\n",
    "</pre>\n",
    "In this case, when the compiler sees the closing ```)``` at character 44 (counting from one) it knows that the preceding ```i``` refers to a variable, and no such variable exists in the current scope."
   ]
  },
  {
   "cell_type": "markdown",
   "id": "68016003",
   "metadata": {},
   "source": [
    "# The `if` statement\n",
    "\n",
    "The `if` statement in C/C++ behaves the same way as it does in Python.  One minor syntactic difference is that C/C++ use `else if` instead of `elif` as in Python.  C/C++ also require parentheses around the boolean expression being tested."
   ]
  },
  {
   "cell_type": "code",
   "execution_count": null,
   "id": "9182bd08",
   "metadata": {},
   "outputs": [],
   "source": [
    "cat -n src/if.c"
   ]
  },
  {
   "cell_type": "code",
   "execution_count": null,
   "id": "80614414",
   "metadata": {},
   "outputs": [],
   "source": [
    "gcc src/if.c"
   ]
  },
  {
   "cell_type": "code",
   "execution_count": null,
   "id": "272178c0",
   "metadata": {},
   "outputs": [],
   "source": [
    "./a.out"
   ]
  },
  {
   "cell_type": "markdown",
   "id": "fa2558a8",
   "metadata": {},
   "source": [
    "If the body of the ```if``` block is a single statement the ```{}``` may be omitted:\n",
    "<pre>\n",
    "if (n > 42)\n",
    "  printf(\"42\\n\");\n",
    "</pre>    \n",
    "\n",
    "<pre>\n",
    "if (n > 42) printf(\"42\\n\");    \n",
    "</pre>"
   ]
  },
  {
   "cell_type": "markdown",
   "id": "8a1fdc62",
   "metadata": {},
   "source": [
    "K&amp;R often do this with one-line blocks in their text.  As a lesser mortal I usually use ```{}``` even for one-line blocks.  I find that it makes it easier to identify the body of a block and reduces the likelihood of error or misinterpretation.\n",
    "\n",
    "Alternatively, I write one-line blocks as I do in Fortran:\n",
    "\n",
    "<code>if (n > 42) printf(\"42\\n\");</code>"
   ]
  },
  {
   "cell_type": "markdown",
   "id": "c78b9096",
   "metadata": {},
   "source": [
    "You can omit the ```{}``` for one-line blocks for <code class=\"kw\">while</code> and <code class=\"kw\">for</code>, as well."
   ]
  },
  {
   "cell_type": "markdown",
   "id": "ab553ffd",
   "metadata": {},
   "source": [
    "<img src=\"https://www.cs.wm.edu/~rml/images/danger.svg\" style=\"height: 30px;\"/>  It's safest to use <code>{}</code> for one-line blocks."
   ]
  },
  {
   "cell_type": "markdown",
   "id": "b7bc7cec",
   "metadata": {},
   "source": [
    "# The `while` statement \n",
    "\n",
    "The `while` statement in C/C++ looks a lot like the <code class=\"kw\">while</code> statement in Python:"
   ]
  },
  {
   "cell_type": "code",
   "execution_count": null,
   "id": "62fb2c83",
   "metadata": {},
   "outputs": [],
   "source": [
    "cat -n src/while.c"
   ]
  },
  {
   "cell_type": "code",
   "execution_count": null,
   "id": "43eff097",
   "metadata": {},
   "outputs": [],
   "source": [
    "gcc src/while.c"
   ]
  },
  {
   "cell_type": "code",
   "execution_count": null,
   "id": "40c3affe",
   "metadata": {},
   "outputs": [],
   "source": [
    "./a.out"
   ]
  },
  {
   "cell_type": "markdown",
   "id": "314fd185",
   "metadata": {},
   "source": [
    "As with <code class=\"kw\">if</code> the boolean test must be in parentheses."
   ]
  },
  {
   "cell_type": "markdown",
   "id": "5da25b1b",
   "metadata": {},
   "source": [
    "# The `for` statement\n",
    "\n",
    "The `for` statement in C/C++ is more general than the one in Python.  The `for` in Python allows for iteration over an iterable.  A `for` statement in C/C++:\n",
    "```\n",
    "for (expr1; expr2; expr3) {  /* for statement in C */\n",
    "  ...\n",
    "}  \n",
    "```\n",
    "is equivalent to\n",
    "```\n",
    "expr1;\n",
    "while (expr2) {\n",
    "    ...\n",
    "    expr3;\n",
    "}\n",
    "```\n",
    "C++ also has special `for` syntax for iterating over iterable objects.  C does not have iterable objects.\n",
    "\n",
    "Here is a `for` loop and an equivalent `while` loop:"
   ]
  },
  {
   "cell_type": "code",
   "execution_count": null,
   "id": "483ddb4f",
   "metadata": {},
   "outputs": [],
   "source": [
    "cat -n src/for.c"
   ]
  },
  {
   "cell_type": "code",
   "execution_count": null,
   "id": "e5e16e47",
   "metadata": {},
   "outputs": [],
   "source": [
    "gcc src/for.c"
   ]
  },
  {
   "cell_type": "code",
   "execution_count": null,
   "id": "7d86a64d",
   "metadata": {},
   "outputs": [],
   "source": [
    "./a.out"
   ]
  },
  {
   "cell_type": "markdown",
   "id": "4d0ab284",
   "metadata": {},
   "source": [
    "From the equivalent `while` loop we can see that in this example it does not matter whether we use `i++` or `++i`:"
   ]
  },
  {
   "cell_type": "code",
   "execution_count": null,
   "id": "342fcfaa",
   "metadata": {},
   "outputs": [],
   "source": [
    "cat -n src/for2.c"
   ]
  },
  {
   "cell_type": "code",
   "execution_count": null,
   "id": "a971154f",
   "metadata": {},
   "outputs": [],
   "source": [
    "gcc src/for.c"
   ]
  },
  {
   "cell_type": "code",
   "execution_count": null,
   "id": "d60035f6",
   "metadata": {},
   "outputs": [],
   "source": [
    "./a.out"
   ]
  },
  {
   "cell_type": "markdown",
   "id": "04bf45ff",
   "metadata": {},
   "source": [
    "It is not uncommon to declare a throwaway loop variable inside the `for` statement.  This variable is local to the loop:"
   ]
  },
  {
   "cell_type": "code",
   "execution_count": null,
   "id": "cde3ed34",
   "metadata": {},
   "outputs": [],
   "source": [
    "cat -n src/for3.c"
   ]
  },
  {
   "cell_type": "code",
   "execution_count": null,
   "id": "c181786f",
   "metadata": {},
   "outputs": [],
   "source": [
    "gcc src/for3.c"
   ]
  },
  {
   "cell_type": "code",
   "execution_count": null,
   "id": "acc06c01",
   "metadata": {},
   "outputs": [],
   "source": [
    "./a.out"
   ]
  },
  {
   "cell_type": "markdown",
   "id": "acccc32f",
   "metadata": {},
   "source": [
    "# The `do` statement\n",
    "\n",
    "C/C++ have a `do` statement that is absent from Python.  A `do` statement is like a `do` statement, only the test for termination comes at the end of the loop.  **This means the body of the loop is guaranteed to be executed at least once.**\n",
    "\n",
    "Notice the difference in behavior between the `while` and `do` loops in the following example."
   ]
  },
  {
   "cell_type": "code",
   "execution_count": null,
   "id": "401569e5",
   "metadata": {},
   "outputs": [],
   "source": [
    "cat -n src/do.c"
   ]
  },
  {
   "cell_type": "code",
   "execution_count": null,
   "id": "1859aaf9",
   "metadata": {},
   "outputs": [],
   "source": [
    "gcc src/do.c"
   ]
  },
  {
   "cell_type": "code",
   "execution_count": null,
   "id": "59ffae71",
   "metadata": {},
   "outputs": [],
   "source": [
    "./a.out"
   ]
  },
  {
   "cell_type": "markdown",
   "id": "8391d503",
   "metadata": {},
   "source": [
    "The `while` loop does not execute, while the `do` loop does."
   ]
  },
  {
   "cell_type": "markdown",
   "id": "0f84ab87",
   "metadata": {},
   "source": [
    "# The `break` and `continue` statements\n",
    "\n",
    "The `break` and `continue` statements in C/C++ behave like their analogs in Python.\n",
    "\n",
    "A `break` statement terminates the execution of the smallest enclosing `while`, `do`, `for`, or `switch` statement (we will get to `switch` shortly)."
   ]
  },
  {
   "cell_type": "code",
   "execution_count": null,
   "id": "a3eeb5d3",
   "metadata": {},
   "outputs": [],
   "source": [
    "cat -n src/break.c"
   ]
  },
  {
   "cell_type": "code",
   "execution_count": null,
   "id": "7769f75a",
   "metadata": {},
   "outputs": [],
   "source": [
    "gcc src/break.c"
   ]
  },
  {
   "cell_type": "code",
   "execution_count": null,
   "id": "fadeb818",
   "metadata": {},
   "outputs": [],
   "source": [
    "./a.out"
   ]
  },
  {
   "cell_type": "markdown",
   "id": "96059a62",
   "metadata": {},
   "source": [
    "A <code class=\"kw\">continue</code> statement terminates the execution of the smallest enclosing <code class=\"kw\">while</code>, <code class=\"kw\">do</code>, or <code class=\"kw\">for</code> statement."
   ]
  },
  {
   "cell_type": "code",
   "execution_count": null,
   "id": "6b130257",
   "metadata": {},
   "outputs": [],
   "source": [
    "cat -n src/continue.c"
   ]
  },
  {
   "cell_type": "code",
   "execution_count": null,
   "id": "90e36293",
   "metadata": {},
   "outputs": [],
   "source": [
    "gcc src/continue.c"
   ]
  },
  {
   "cell_type": "code",
   "execution_count": null,
   "id": "e4a7ac8a",
   "metadata": {},
   "outputs": [],
   "source": [
    "./a.out"
   ]
  },
  {
   "cell_type": "markdown",
   "id": "96344ef4",
   "metadata": {},
   "source": [
    "<img src=\"https://www.cs.wm.edu/~rml/images/danger.svg\" style=\"height: 30px;\"/>  Be sparing in your use of `break` and `continue` as they can lead to confusing logic."
   ]
  },
  {
   "cell_type": "markdown",
   "id": "586b3c3a",
   "metadata": {},
   "source": [
    "# The `switch` statement\n",
    "\n",
    "The `switch` statement in C/C++ a has no analog in Python.  It is a multi-way decision that checks whether an expression matches one of a series of **constant** integer expressions, and branches accordingly:\n",
    "\n",
    "<code>\n",
    "switch (control-expr) {\n",
    "    case const-expr1: statements\n",
    "    case const-expr2: statements\n",
    "    default: statements\n",
    "}\n",
    "</code>\n",
    "\n",
    "The behavior of `switch` is subtle and can lead to bugs if you do not pay close attention to how it works (and even if you do).  A `switch` is executed as follows:\n",
    "\n",
    "1. First the control expression `control-expr` is evaluated.\n",
    "2. If the value of the control expression matches a `case` label `const-expr`, then the program jumps to the point in the code indicated by that `case` and begins execution there.\n",
    "3. If the value of the control expression does not match a `case` label, but there is a `default` label, then the program jumps to the point in the code indicated by the `default` label.\n",
    "4. If the value of the control expression does not match a `case` label and there is not a `default` label then no statements in the body of the `switch` statement are executed.\n",
    "\n",
    "Let's look at some examples.  In each example, try to use the evaluation rules to determine what you will see before you execute the code."
   ]
  },
  {
   "cell_type": "code",
   "execution_count": null,
   "id": "b0408e41",
   "metadata": {},
   "outputs": [],
   "source": [
    "cat -n src/switch.c"
   ]
  },
  {
   "cell_type": "code",
   "execution_count": null,
   "id": "c14fc749",
   "metadata": {},
   "outputs": [],
   "source": [
    "gcc src/switch.c"
   ]
  },
  {
   "cell_type": "code",
   "execution_count": null,
   "id": "fbcda1e2",
   "metadata": {},
   "outputs": [],
   "source": [
    "./a.out"
   ]
  },
  {
   "cell_type": "markdown",
   "id": "99c81026",
   "metadata": {},
   "source": [
    "Observe that in the fourth `switch` statement **all four cases are executed**.\n",
    "\n",
    "<img src=\"https://www.cs.wm.edu/~rml/images/danger.svg\" style=\"height: 30px;\"/> If you want to make the cases in a ```switch``` statement mutually exclusive, like an ```if / else if / else``` construct, then you need to jump out of the ```switch``` statement using a ```break``` statement:"
   ]
  },
  {
   "cell_type": "code",
   "execution_count": null,
   "id": "68df7702",
   "metadata": {},
   "outputs": [],
   "source": [
    "cat -n src/switch2.c"
   ]
  },
  {
   "cell_type": "code",
   "execution_count": null,
   "id": "074c985d",
   "metadata": {},
   "outputs": [],
   "source": [
    "gcc src/switch2.c"
   ]
  },
  {
   "cell_type": "code",
   "execution_count": null,
   "id": "5ea57be1",
   "metadata": {},
   "outputs": [],
   "source": [
    "./a.out"
   ]
  },
  {
   "cell_type": "markdown",
   "id": "7edf28a0",
   "metadata": {},
   "source": [
    "<div class=\"danger\"></div>  🐞 The logic of the <code class=\"kw\">switch</code> statement is <b>not</b> the same as <code class=\"kw\">if / else if / else</code> unless you add additional logic, like a <code class=\"kw\">break</code> statement."
   ]
  },
  {
   "cell_type": "markdown",
   "id": "2223ee0f",
   "metadata": {},
   "source": [
    "The following is a case (taken from K&amp;R) where we can use the \"fall through\" behavior of ```switch``` to our advantage.  We want to test whether a character ```c``` is a digit, white space, or something else.\n",
    "* In the cases where the character is one of 0, 1, 2, &hellip;, 9 we fall through to the code on lines 6 and 7; the ```break``` at line 7 jumps over the remaining parts of the ```switch```.\n",
    "* If the character is not a digit we jump to the tests on line 8.  If ```c``` is white space, we fall through to the code on lines 9 and 10 and then jump to the end of the ```switch```.\n",
    "* Finally, if ```c``` is not a digit or white space, we follow the ```default``` branch of the ```switch```."
   ]
  },
  {
   "cell_type": "code",
   "execution_count": null,
   "id": "862ddb86",
   "metadata": {},
   "outputs": [],
   "source": [
    "cat -n src/switch3.c"
   ]
  },
  {
   "cell_type": "code",
   "execution_count": null,
   "id": "b74210e4",
   "metadata": {},
   "outputs": [],
   "source": [
    "gcc src/switch3.c"
   ]
  },
  {
   "cell_type": "code",
   "execution_count": null,
   "id": "3dfe00f3",
   "metadata": {},
   "outputs": [],
   "source": [
    "./a.out"
   ]
  },
  {
   "cell_type": "markdown",
   "id": "43b429d3",
   "metadata": {},
   "source": [
    "<div class=\"danger\"></div>  🐞 Make sure you correctly handle situations where you \"fall through\" some or all of a <code>switch</code> statement."
   ]
  },
  {
   "cell_type": "markdown",
   "id": "0319fca4-b953-43d9-9611-fe3a51f513b1",
   "metadata": {},
   "source": [
    "## Duff's device 🤯🤯🤯🤯\n",
    "\n",
    "One of the wackiest bit of programming I've heard of is [Duff's device](https://en.wikipedia.org/wiki/Duff%27s_device) in which a `switch` statement and a `do` statement are interleaved.  A `do` loop begins inside the first case of a `switch` statement and contains all the other cases.  This means that it is possible to jump into the middle of the `do` loop and begin execution of the loop while also following the logic of the `switch` statement."
   ]
  },
  {
   "cell_type": "code",
   "execution_count": null,
   "id": "c64a8785-e7cc-45cb-80d9-5e6db4d830ff",
   "metadata": {
    "scrolled": true
   },
   "outputs": [],
   "source": [
    "cat -n src/duff.c"
   ]
  },
  {
   "cell_type": "markdown",
   "id": "9e59328a-827a-46a7-a4b8-9ea0931f82d8",
   "metadata": {},
   "source": [
    "Believe it or not, this is valid C:"
   ]
  },
  {
   "cell_type": "code",
   "execution_count": null,
   "id": "def8e819-d1ba-4522-87ea-4a504feb0727",
   "metadata": {},
   "outputs": [],
   "source": [
    "gcc -c src/duff.c"
   ]
  },
  {
   "cell_type": "markdown",
   "id": "b5dc2464",
   "metadata": {},
   "source": [
    "# The `goto` statement \n",
    "\n",
    "C/C++ have a `goto` statement that allows you to jump to another location in a function and resume execution there.  There are two parts to a `goto`, the `goto` and the location it jumps to.  The latter is indicated by a **label**:"
   ]
  },
  {
   "cell_type": "code",
   "execution_count": null,
   "id": "039ea836",
   "metadata": {},
   "outputs": [],
   "source": [
    "cat -n src/goto.c"
   ]
  },
  {
   "cell_type": "code",
   "execution_count": null,
   "id": "2ab62ab9",
   "metadata": {},
   "outputs": [],
   "source": [
    "gcc src/goto.c"
   ]
  },
  {
   "cell_type": "code",
   "execution_count": null,
   "id": "3410a382",
   "metadata": {},
   "outputs": [],
   "source": [
    "./a.out"
   ]
  },
  {
   "cell_type": "markdown",
   "id": "1bb61ad7",
   "metadata": {},
   "source": [
    "Execution jumps over the statements between ```goto foo;``` and the label ```foo:```."
   ]
  },
  {
   "cell_type": "markdown",
   "id": "bb8af94d",
   "metadata": {},
   "source": [
    "The <code class=\"kw\">goto</code> is a vestige of the days before [**structured programming**](https://en.wikipedia.org/wiki/Structured_programming).  Until Fortran 77, of Fortran had an IF statement that only controlled only a single statement, and no ELSEIF or ELSE.  We used the `goto` to achieve the same effect.\n",
    "\n",
    "Instead of Python's\n",
    "<code>\n",
    "if (n > 42):\n",
    "    n = 54\n",
    "    pi = 3\n",
    "else:\n",
    "    n = 6\n",
    "    pi = 10\n",
    "</code>\n",
    "we would write (Fortran used numbers as statement labels at the time)\n",
    "\n",
    "<code>     if (n .le. 42) go to 100  ! .le. is Fortran's <=.\n",
    "      n = 54     ! IF block: executed if and only if n > 42.\n",
    "      pi = 3     ! IF block: executed if and only if n > 42.\n",
    "      go to 110  ! Skip the ELSE block.\n",
    "  100 n = 6      ! ELSE block: executed if and only if n <= 42.\n",
    "      pi = 10    ! ELSE block: executed if and only if n <= 42.\n",
    "  110 continue   ! The end of the IF-ELSE.</code>\n",
    "\n",
    "(the use of <code>!</code> to denote an inline comment is an anachronism as it was not introduced until Fortran 90).\n",
    "\n",
    "If we were feeling \"structured\" we'd write\n",
    "\n",
    "<code>     if (n .le. 42) go to 100  ! .le. is Fortran's <=.\n",
    "          n = 54     ! IF block: executed if and only if n > 42.\n",
    "          pi = 3     ! IF block: executed if and only if n > 42.\n",
    "      go to 110  ! Skip the ELSE block.\n",
    "  100     n = 6      ! ELSE block: executed if and only if n <= 42.\n",
    "          pi = 10    ! ELSE block: executed if and only if n <= 42.\n",
    "  110 continue   ! The end of the IF-ELSE.\n",
    "</code>"
   ]
  },
  {
   "cell_type": "markdown",
   "id": "5f0409d0",
   "metadata": {},
   "source": [
    "## Should you ever use a `goto`?\n",
    "\n",
    "Many people speak of the `goto` statement with disapprobation, and there is a well-known screed by Edsgar Dijkstra, [*Go To Statement Considered Harmful*](https://dl.acm.org/doi/10.1145/362929.362947) (1968), against its use.  In reality, the `goto` statement simply exposes the hardware jump instruction, which is what is actually used to implement things like loops and conditional execution at the hardware level.  If you compare the assembly code generated by using a structured item such as `if`-`else` versus the same construct built with `goto` you will likely find the code is virtually identical.\n",
    "\n",
    "The problem is that undisciplined use of `goto` leads to [spaghetti code](https://en.wikipedia.org/wiki/Spaghetti_code) &ndash; code where the path of execution is as orderly as a bowl of spaghetti.  In the old days it was not uncommon to encounter code where there were numerous backward and forward jumps.  Execution of spaghetti code proceeded in a highly nonlinear manner.\n",
    "\n",
    "I once was given a Fortran subroutine with 25 `goto` statements in 73 lines of code.  Once I traced execution I discovered that in our use case the code jumped around a lot, but did nothing else, and then called another subroutine and immediately returned afterwards &ndash; in other words, the subroutine was a giant [no-op](https://en.wikipedia.org/wiki/NOP_(code))!"
   ]
  },
  {
   "cell_type": "markdown",
   "id": "9bb90ab4",
   "metadata": {},
   "source": [
    "K&amp;R do allow that there is one situation where a `code` can be helpful.  This is the situation where you need to abandon processing in a deeply nested structure, such as nested loops.  A `break` statement will only jump out of the innermost loop; there would need to be additional logic to break out of the surrounding loops:"
   ]
  },
  {
   "cell_type": "markdown",
   "id": "1ba352bb",
   "metadata": {},
   "source": [
    "<pre>\n",
    "for (...) {\n",
    "    for (...) {\n",
    "        ...\n",
    "        if (disaster) {\n",
    "            break;\n",
    "        }\n",
    "    }\n",
    "    if (disaster) {\n",
    "        break;\n",
    "    }\n",
    "}\n",
    "\n",
    "if (disaster) {\n",
    "    /* Try to clean up. */\n",
    "}    \n",
    "</pre>  "
   ]
  },
  {
   "cell_type": "markdown",
   "id": "902ec0b5",
   "metadata": {},
   "source": [
    "A `goto` simplifies the logic:"
   ]
  },
  {
   "cell_type": "markdown",
   "id": "4e04732c",
   "metadata": {},
   "source": [
    "\n",
    "<pre>\n",
    "for (...) {\n",
    "    for (...) {\n",
    "        ...\n",
    "        if (disaster) {\n",
    "            goto recovery;\n",
    "        }\n",
    "    }\n",
    "}\n",
    "\n",
    "recovery:\n",
    "    /* Try to clean up. */\n",
    "</pre>   "
   ]
  },
  {
   "cell_type": "markdown",
   "id": "847feed8",
   "metadata": {},
   "source": [
    "I agree with K&amp;R on this matter.  I have encountered similar situations where `goto` is handy when exiting iterative numerical processes that have complicated and interacting stopping criteria."
   ]
  },
  {
   "cell_type": "markdown",
   "id": "19bed653",
   "metadata": {},
   "source": [
    "<img src=\"https://www.cs.wm.edu/~rml/images/danger.svg\" style=\"height: 30px;\"/> Use `goto` sparingly but don't be reluctant to do so if it makes your code simpler and clearer."
   ]
  },
  {
   "cell_type": "markdown",
   "id": "e735c783",
   "metadata": {},
   "source": [
    "## The Apple ```goto fail``` bug \n",
    "\n",
    "\n",
    "[The Apple <tt>goto fail</tt> bug](https://medium.com/swlh/apples-most-notorious-code-bug-6478ebaea44f) illustrates why you should use ```{}``` even for one-line blocks.  It seems likely someone was fooled by indentation.\n",
    "\n",
    "<img src=\"src/goto_fail.png\" style=\"height: 800px;\"/>"
   ]
  }
 ],
 "metadata": {
  "kernelspec": {
   "display_name": "Bash",
   "language": "bash",
   "name": "bash"
  },
  "language_info": {
   "codemirror_mode": "shell",
   "file_extension": ".sh",
   "mimetype": "text/x-sh",
   "name": "bash"
  }
 },
 "nbformat": 4,
 "nbformat_minor": 5
}
