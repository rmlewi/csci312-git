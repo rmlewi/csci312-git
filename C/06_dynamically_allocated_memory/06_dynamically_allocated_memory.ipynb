{
 "cells": [
  {
   "cell_type": "markdown",
   "id": "1c7e450d",
   "metadata": {},
   "source": [
    "<div style=\"text-align:center;\">\n",
    "    <img src=\"http://www.cs.wm.edu/~rml/images/wm_horizontal_single_line_full_color.png\">\n",
    "    <h1>CSCI 312-01, Fall 2025</h1>\n",
    "    <h1>Effective C, Chapter 6</h1>\n",
    "    <h1>Dynamically allocated memory</h1>\n",
    "</div>"
   ]
  },
  {
   "cell_type": "markdown",
   "id": "f8bcc386",
   "metadata": {},
   "source": [
    "# Contents\n",
    "\n",
    "* [Indirection](#Indirection)\n",
    "* [More about pointers and addresses](#More-about-pointers-and-addresses)\n",
    "* [A swap function](#A-swap-function)\n",
    "* [Pointer arithmetic](#Pointer-arithmetic)\n",
    "* [Pointers and arrays and strings](#Pointers-and-arrays-and-strings)\n",
    "* [Bubblesort in C](#Bubblesort-in-C)\n",
    "* [Pointers and <code class=\"kw\">const</code>](#const)\n",
    "* [Pointers in CPython](#Pointers-in-CPython)\n",
    "* [Function pointers](#Function-pointers)\n",
    "* [Dynamic memory allocation](#Dynamic-memory-allocation)"
   ]
  },
  {
   "cell_type": "markdown",
   "id": "611e08d9",
   "metadata": {},
   "source": [
    "# Python vs. C vs. C++ vs. Java\n",
    "\n",
    "|           | Python          | C            | C++   | Java  |\n",
    "| :--------:| :-------------: | :----------: | :---: | :---: |\n",
    "| pointer   |                 | type &#42;  | type &#42; |   |\n",
    "| address of ```var``` |      | ```&var```  | ```&var``` |   |\n",
    "| memory allocation |  | `malloc()`, `calloc()` | `new` | same as C++ |\n",
    "| memory deallocation | | `free()` | `delete` | same as C++ |"
   ]
  },
  {
   "cell_type": "markdown",
   "id": "f7596c1c",
   "metadata": {},
   "source": [
    "# Indirection\n",
    "\n",
    "<blockquote>\n",
    "By indirections find directions out. <br/>\n",
    "&ndash; Hamlet, Act 2, Scene 1\n",
    "</blockquote>\n",
    "\n",
    "In computer science, [**indirection**](https://en.wikipedia.org/wiki/Indirection) is the ability to refer to an object, well, indirectly through some mechanism other than the object itself.\n",
    "\n",
    "Here is an illustration.  Imagine we need to sort a set of numbers in ascending order.  One simple approach (which does not scale well!) is **bubblesort**: we make repeated passes through the numbers, and if two adjacent numbers are out of order relative to one another we swap them.  We are done when we make a pass without finding any out of order numbers:"
   ]
  },
  {
   "cell_type": "code",
   "execution_count": null,
   "id": "a9ad5519",
   "metadata": {},
   "outputs": [],
   "source": [
    "cat -n src/bubblesort.py"
   ]
  },
  {
   "cell_type": "code",
   "execution_count": null,
   "id": "ea6b5dac",
   "metadata": {},
   "outputs": [],
   "source": [
    "python3 src/bubblesort.py"
   ]
  },
  {
   "cell_type": "markdown",
   "id": "b540f33d",
   "metadata": {},
   "source": [
    "Now suppose that instead of sorting numbers, we wish to sort large, heavy rocks so that when we are done they are lined up in order of ascending weight.  The swaps of adjacent rocks would be onerous work, so instead we will use indirection:\n",
    "1.  First label the rocks (in no particular order) $1$ to $n$.\n",
    "2.  For each rock, take a piece of paper and write the rock's weight and the label we gave it in step 1.\n",
    "3.  Perform bubblesort on the pieces of paper so they are sorted in order of increasing weight.\n",
    "4.  Once we have things sorted in order of ascending weight, look up the rocks using the labels from step 1 and assemble the rocks in sorted order.\n",
    "\n",
    "The use of the labels for the rocks rather than the rocks themselves for the purposes of sorting is an example of indirection.  In this example it allows us to move the heavy rocks exactly one time each."
   ]
  },
  {
   "cell_type": "markdown",
   "id": "3a62a834",
   "metadata": {},
   "source": [
    "# More about pointers and addresses\n",
    "\n",
    "One of C's strengths is the ability manipulate objects using indirection via their addresses in memory.  A [**pointer**](https://en.wikipedia.org/wiki/Pointer_(computer_programming)) is a variable that can hold a memory address.  They are declared with the syntax\n",
    "```\n",
    "type *var;\n",
    "```\n",
    "where ```type``` is the type of object we are pointing to (e.g., ```int```, ```float```).\n",
    "\n",
    "For example:\n",
    "```\n",
    "int n;   // An integer.\n",
    "int *p;  // A pointer to an integer.\n",
    "int *q;  // Another pointer to an integer.\n",
    "double *x  // A pointer to a double.\n",
    "```"
   ]
  },
  {
   "cell_type": "markdown",
   "id": "a3fbc6e6-8ee0-4823-b66d-138eccf9042e",
   "metadata": {},
   "source": [
    "The `*` modifies the variable that follows, **not** the type that precedes it.  That is, the declaration is\n",
    "\n",
    "<code>int* p, q;</code>\n",
    "is equivalent to\n",
    "\n",
    "<code>int *p, q;</code>\n",
    "\n",
    "so\n",
    "* <code>p</code> is a pointer to an <code>int</code>, but \n",
    "* <code>q</code> is an <code>int</code>."
   ]
  },
  {
   "cell_type": "markdown",
   "id": "eb9717cf",
   "metadata": {},
   "source": [
    "<div class=\"danger\"></div> \n",
    "🐞 Be careful &ndash; the <code>*</code> modifies the variable that follows, not the type that precedes it. 🐞"
   ]
  },
  {
   "cell_type": "markdown",
   "id": "0ff22083",
   "metadata": {},
   "source": [
    "We can get the address of an existing variable with the `&` operator.\n",
    "\n",
    "Let's take a look at some code:"
   ]
  },
  {
   "cell_type": "code",
   "execution_count": null,
   "id": "59f407a3",
   "metadata": {},
   "outputs": [],
   "source": [
    "cat -n src/pt_intro.c"
   ]
  },
  {
   "cell_type": "code",
   "execution_count": null,
   "id": "554c09d9",
   "metadata": {},
   "outputs": [],
   "source": [
    "clang -Wall src/pt_intro.c"
   ]
  },
  {
   "cell_type": "code",
   "execution_count": null,
   "id": "d4c71356",
   "metadata": {},
   "outputs": [],
   "source": [
    "./a.out"
   ]
  },
  {
   "cell_type": "markdown",
   "id": "0e978ba9",
   "metadata": {},
   "source": [
    "At line 11 we set ```p``` to the address of ```n```.  We say that `p` now points to `n`.  We print the value of the pointer in line 12 using the `%p` print format.  The address begins with `0x`, which indicates that this is a hexadecimal (base 16) number.  The hexadecimal digits are\n",
    "```\n",
    "hexadecimal: 0 1 2 3 4 5 6 7 8 9 a  b  c  d  e  f\n",
    "decimal:     0 1 2 3 4 5 6 7 8 9 10 11 12 13 14 15\n",
    "```\n",
    "\n",
    "We can access the value of the variable ```n``` through the pointer ```p``` by **dereferencing** the pointer.  The syntax ```*p``` in line 14 means the value at the memory location ```p``` points to.\n",
    "\n",
    "Since ```p``` is declared to point to an ```int```, the statement ```*p``` says to\n",
    "\n",
    "1. go to the location in memory stored in ```p```,\n",
    "2. read one ```int``` worth of bits (typically 32 bits), and\n",
    "3. interpret those bits as an ```int```.\n",
    "\n",
    "In line 16 we write to the location that ```p``` points to, thereby changing `n`.\n",
    "\n",
    "Multiple pointers can point to the same location, as lines 20 and 21 demonstrate."
   ]
  },
  {
   "cell_type": "markdown",
   "id": "b9c5f0c3",
   "metadata": {},
   "source": [
    "🐞🐞 Pointers can be confusing. 🐞🐞"
   ]
  },
  {
   "cell_type": "markdown",
   "id": "c931b0e9",
   "metadata": {},
   "source": [
    "\n",
    "If <code>p</code> is a pointer, <code>p</code> refers to a location in memory.\n",
    "\n",
    "In a declaration <code>&#42;</code> means the variable is a pointer.  When used in dereferencing, on the other hand, the <code>*</code> means the object the pointer points to, if it appears on the left-hand side of an assignment, or the value of the object the pointer points to, otherwise.\n",
    "\n",
    "<pre>\n",
    "double x = 54;   /* A double. */\n",
    "double *p = &x;  /* A pointer to x. */\n",
    "double y;        /* Another double. */\n",
    "\n",
    "y = *p;   /* Equivalent to y = x. */\n",
    "*p = 42;  /* Equivalent to x = 42. */\n",
    "    \n",
    "p = 42;   /* Sets p to point to the address 42, which is probably invalid! */\n",
    "</pre>"
   ]
  },
  {
   "cell_type": "markdown",
   "id": "8e33d461",
   "metadata": {},
   "source": [
    "Recall **references** from Python &ndash; these are two variables that refer to same underlying object.  In the following Python code, both `a` and `b` refer to the same list:"
   ]
  },
  {
   "cell_type": "code",
   "execution_count": null,
   "id": "8e1db022",
   "metadata": {},
   "outputs": [],
   "source": [
    "cat -n src/reference.py"
   ]
  },
  {
   "cell_type": "code",
   "execution_count": null,
   "id": "178a279d",
   "metadata": {},
   "outputs": [],
   "source": [
    "python src/reference.py"
   ]
  },
  {
   "cell_type": "markdown",
   "id": "872f9913",
   "metadata": {},
   "source": [
    "References are like pointers, only without the need to dereference a pointer.  But references are implemented in practice using pointers that point to the same object in memory."
   ]
  },
  {
   "cell_type": "code",
   "execution_count": null,
   "id": "434325ad",
   "metadata": {},
   "outputs": [],
   "source": [
    "./a.out"
   ]
  },
  {
   "cell_type": "markdown",
   "id": "435024b3",
   "metadata": {},
   "source": [
    "In hexadecimal `c` represents decimal 12:\n",
    "\n",
    "```\n",
    "hexadecimal: 0 1 2 3 4 5 6 7 8 9 a  b  c  d  e  f\n",
    "decimal:     0 1 2 3 4 5 6 7 8 9 10 11 12 13 14 15\n",
    "```\n",
    "\n",
    "Suppose\n",
    "```\n",
    "p + 1 = 0x7ff7b34657dc\n",
    "p     = 0x7ff7b34657d8\n",
    "```\n",
    "Then\n",
    "```\n",
    "(p + 1) - p = 0x7ff7b34657dc - 0x7ff7b34657d8 = c - 8 = 4.\n",
    "```\n",
    "or 4 bytes, which is the size of an `int`.\n",
    "\n",
    "This illustrates an important aspect of working with pointers &ndash; usually we don't care about the values of pointers but rather the relative locations of pointers amd how far apart the addresses they contain are."
   ]
  },
  {
   "cell_type": "markdown",
   "id": "97be100e",
   "metadata": {},
   "source": [
    "# Pointers and arrays and strings\n",
    "\n",
    "There is a very close connection in C between pointers, arrays, and strings (which are just arrays of characters).  You should study the idioms in this section closely, as they are commonly encountered in C code.\n",
    "\n",
    "First we look at the pointers and arrays:"
   ]
  },
  {
   "cell_type": "code",
   "execution_count": null,
   "id": "aeadd052",
   "metadata": {},
   "outputs": [],
   "source": [
    "cat -n src/arrays.c"
   ]
  },
  {
   "cell_type": "markdown",
   "id": "0a2d7cba",
   "metadata": {},
   "source": [
    "In line 11 we use array indexing to access the elements of the array `numbers`.\n",
    "\n",
    "In line 16 we set the integer pointer `p` to equal `numbers`.  Since `numbers` is an array, thie has the effect of setting `p` to point to the beginning of `numbers` in memory.\n",
    "\n",
    "In line 17, `*(p + i)` refers to the value `int` that is `i` integers past the beginning of the array `numbers`:\n",
    "* `p + i` points to the location that is `i * sizeof(int)` bytes past the beginning of `numbers`, and\n",
    "* `*(p + 1)` dereferences the address `p + i` as an `int`.  It is equivalent to `p[i]`.\n",
    "\n",
    "In line 23 we achieve the same effect with the pointer `p` using array indexing, just as in line 11."
   ]
  },
  {
   "cell_type": "code",
   "execution_count": null,
   "id": "9f71dd85",
   "metadata": {},
   "outputs": [],
   "source": [
    "gcc src/arrays.c"
   ]
  },
  {
   "cell_type": "code",
   "execution_count": null,
   "id": "b9231fe5",
   "metadata": {},
   "outputs": [],
   "source": [
    "./a.out"
   ]
  },
  {
   "cell_type": "markdown",
   "id": "d4c92666",
   "metadata": {},
   "source": [
    "This example illustrates an important feature of C: **arrays are really just pointers (and vice-versa)**.\n",
    "\n",
    "Arrays are not first-class objects in C &ndash; an array is really just a pointer to the beginning of the array.  The type of the pointer (e.g. `int*`, `double*`) determines how the bytes at that location and subsequent locations are interpreted.  You are responsible to keeping track of the length of the array."
   ]
  },
  {
   "cell_type": "markdown",
   "id": "b2e4f90b",
   "metadata": {},
   "source": [
    "<img src=\"https://www.cs.wm.edu/~rml/images/danger.svg\" style=\"height: 30px\"/> <img src=\"https://www.cs.wm.edu/~rml/images/danger.svg\" style=\"height: 30px\"/> 🐞 C hackers **love pointers** 💘💘, as they allow them to write terse and cryptic (but powerful!) code. 🐞"
   ]
  },
  {
   "cell_type": "markdown",
   "id": "e964e8b8-86b1-4a20-9535-f2f12f57e1e4",
   "metadata": {},
   "source": [
    "Here are some other C idioms that implement the loops we just looked at:"
   ]
  },
  {
   "cell_type": "code",
   "execution_count": null,
   "id": "2a867410",
   "metadata": {},
   "outputs": [],
   "source": [
    "cat -n src/arrays2.c"
   ]
  },
  {
   "cell_type": "markdown",
   "id": "93eafa84",
   "metadata": {},
   "source": [
    "In line 17, `numbers + 10` means the address 10 `int` past the start of `numbers`.  In line 18 we encounter `*p++`.  This is evaluated as\n",
    "* use the value of the `int` that `p` points to (`*p`), and\n",
    "* then increment `p` (`p++`); i.e., advance `p` to point to the next `int`.\n",
    "\n",
    "The `for` loop that begins at line 25 is equivalent to the `while` loop at line 18."
   ]
  },
  {
   "cell_type": "markdown",
   "id": "55cd9896",
   "metadata": {},
   "source": [
    "<div class=\"danger\"></div><div class=\"danger\"></div>\n",
    "In general, incrementing a pointer advances it by the size (in bytes) of the object it points to, while decrementing a pointer moves it backward by the size of the object it points to."
   ]
  },
  {
   "cell_type": "markdown",
   "id": "b069cbe0",
   "metadata": {},
   "source": [
    "To further illustrate C pointer idioms, here is a function that determines the length of a string.\n",
    "\n",
    "A string in C is an array of characters terminated by an ASCII NULL character.  This means that strings in C are really just pointers of type `char*` that point to the first character in the string.  To read the string you go to that starting address and read bytes until you encounter the terminating ASCII NULL."
   ]
  },
  {
   "cell_type": "code",
   "execution_count": null,
   "id": "a61b7103",
   "metadata": {},
   "outputs": [],
   "source": [
    "cat -n src/strlen.c"
   ]
  },
  {
   "cell_type": "code",
   "execution_count": null,
   "id": "4f28faf3",
   "metadata": {},
   "outputs": [],
   "source": [
    "gcc src/strlen.c"
   ]
  },
  {
   "cell_type": "code",
   "execution_count": null,
   "id": "3c37dbae",
   "metadata": {},
   "outputs": [],
   "source": [
    "./a.out"
   ]
  },
  {
   "cell_type": "markdown",
   "id": "62a3058a",
   "metadata": {},
   "source": [
    "Let's break down how this function works.  All the work is done in the ```for``` loop on line 6:\n",
    "<code>\n",
    "    for (count = 0; &#42;s; s++, count++);\n",
    "</code>\n",
    "This is equivalent to\n",
    "<code>\n",
    "count = 0;\n",
    "while (*s) {\n",
    "    s = s + 1;  // Advance one character.\n",
    "    count = count + 1;  // Increment the counter.\n",
    "}\n",
    "</code>\n",
    "We start with the pointer ```s``` at the beginning of the string; the increment ```s++``` moves us across the string.  We use the fact that <code>&#42;s</code> will not be zero until we reach the ASCII NULL that terminates the string so the non-zero value <code>&#42;s</code> is interpreted as \"true\" and the loop continues."
   ]
  },
  {
   "cell_type": "markdown",
   "id": "ab29c3c1",
   "metadata": {},
   "source": [
    "<b>Question.</b>  Why can't we declare ```count``` inside the ```for``` statement:\n",
    "<code>\n",
    "int strlen(char *s)\n",
    "{\n",
    "    for (int count = 0; *s; s++, count++);\n",
    "    return count;\n",
    "}\n",
    "</code>"
   ]
  },
  {
   "cell_type": "markdown",
   "id": "062524d9",
   "metadata": {},
   "source": [
    "<b>Answer</b> <br/>\n",
    "<div class=\"voila\">\n",
    "This would make <tt>count</tt> local to the <tt>for</tt> statement so it would not be available to return.\n",
    "</div>"
   ]
  },
  {
   "cell_type": "markdown",
   "id": "f43f4007-a543-4af2-9290-802c4fb82f3c",
   "metadata": {},
   "source": [
    "Is the following valid in C?"
   ]
  },
  {
   "cell_type": "code",
   "execution_count": null,
   "id": "24f1f3fe-bb4d-4fb4-b6f8-dcf986ba8868",
   "metadata": {},
   "outputs": [],
   "source": [
    "cat -n src/string_sum.c"
   ]
  },
  {
   "cell_type": "markdown",
   "id": "d8c1210d-3d8c-40b3-b18a-b2bc436a4f94",
   "metadata": {},
   "source": [
    "<b>Answer</b> <br/>\n",
    "<div class=\"voila\">\n",
    "Yes.  We are adding 42 to a pointer, which is valid.  The sum <tt>s + 42</tt>refers to the address 42 characters (presumably bytes) past <tt>s</tt>code>\n",
    "</div>"
   ]
  },
  {
   "cell_type": "code",
   "execution_count": null,
   "id": "7d27afc4-3d58-477e-b002-b6ebe3970c93",
   "metadata": {},
   "outputs": [],
   "source": [
    "clang -Wall -pedantic src/string_sum.c"
   ]
  },
  {
   "cell_type": "code",
   "execution_count": null,
   "id": "d5e3d28d-da1b-4af6-b448-2de667e377a1",
   "metadata": {},
   "outputs": [],
   "source": [
    "./a.out"
   ]
  },
  {
   "cell_type": "markdown",
   "id": "685103d7",
   "metadata": {},
   "source": [
    "# Bubblesort in C\n",
    "\n",
    "As another example we will implement the bubblesort algorithm in C:"
   ]
  },
  {
   "cell_type": "code",
   "execution_count": null,
   "id": "292b511f",
   "metadata": {},
   "outputs": [],
   "source": [
    "cat -n src/bubblesort.c"
   ]
  },
  {
   "cell_type": "markdown",
   "id": "4027414e",
   "metadata": {},
   "source": [
    "Note that we use a <code class=\"kw\">do</code> rather than a <code class=\"kw\">while</code> loop as we did in Python.  I like this structure since it allows us to avoid initializing `not_done` outside the loop."
   ]
  },
  {
   "cell_type": "code",
   "execution_count": null,
   "id": "dbd51a02",
   "metadata": {},
   "outputs": [],
   "source": [
    "clang -Wall src/bubblesort.c"
   ]
  },
  {
   "cell_type": "code",
   "execution_count": null,
   "id": "6223c748",
   "metadata": {},
   "outputs": [],
   "source": [
    "./a.out"
   ]
  },
  {
   "cell_type": "markdown",
   "id": "a47153e5-a233-4639-86de-017b49802e48",
   "metadata": {},
   "source": [
    "# Pointers and <code class=\"kw\">const</code> <a id=\"const\"/>\n",
    "\n",
    "When applied to pointers, the <code class=\"kw\">const</code> storage class can refer either to\n",
    "* a pointer,\n",
    "* the value(s) it points to, or\n",
    "* both.\n",
    "\n",
    "Consider the following:"
   ]
  },
  {
   "cell_type": "code",
   "execution_count": null,
   "id": "99c4b0fc-14ff-40b4-93c8-703e3c5f6142",
   "metadata": {},
   "outputs": [],
   "source": [
    "cat -n src/const.c"
   ]
  },
  {
   "cell_type": "markdown",
   "id": "e3d672fb-6c1c-416d-b4d9-8936b8c382b1",
   "metadata": {},
   "source": [
    "When we attempt to compile the code, we see different sets of valid and invalid statements, depending on the <code class=\"kw\">const</code> declarations in the calling sequences:"
   ]
  },
  {
   "cell_type": "code",
   "execution_count": null,
   "id": "3cc9082a-ae20-433b-a3d1-9b5b3f66a7c1",
   "metadata": {},
   "outputs": [],
   "source": [
    "clang -c src/const.c"
   ]
  },
  {
   "cell_type": "markdown",
   "id": "64eb3480-8372-4463-800d-b4f18dc626ac",
   "metadata": {},
   "source": [
    "<img src=\"https://www.cs.wm.edu/~rml/images/danger.svg\" style=\"height: 30px\"/> In C, pointer errors are a common source of mischief.  Program defensively and use the most restrictive declaration of pointers that you can."
   ]
  },
  {
   "cell_type": "markdown",
   "id": "559b71c6",
   "metadata": {},
   "source": [
    "# Pointers in CPython\n",
    "\n",
    "CPython, the reference implementation of Python, is written in C and uses pointers extensively.\n",
    "\n",
    "For instance, the Python `bubblesort()` function above takes a list `a` as its input and sorts it, and the sorting persists after we return from the function.  This is similar to the swap function we just looked at.  CPython is passing a pointer to the list to `bubblesort()` and that allows us to manipulate the actual list in memory rather than a copy of the list.\n",
    "\n",
    "[CPython lists are actually arrays of pointers to Python objects](https://docs.python.org/2/faq/design.html#how-are-lists-implemented-in-cpython).  This makes list references extremely efficient, since accessing, say, `a[42]` is a matter of going directly to the 42nd entry in an array of pointers and then dereferencing the pointer.  If we used a true list then we would need to travel through the objects `a[0]` through `a[41]` before we could access `a[42]`.  The fact that we are storing pointers to Python objects rather than the objects themselves means we are storing values of the same type in the array so lists can be represented by heterogeneous types of objects.\n",
    "\n",
    "CPython also handles all the memory management for you.  In particular, CPython manages [garbage collection](https://en.wikipedia.org/wiki/Garbage_collection_(computer_science)), which is the reclamation of memory from variables that are no longer in use."
   ]
  },
  {
   "cell_type": "markdown",
   "id": "f118222e-fec1-4344-aeb6-c3745db0810d",
   "metadata": {},
   "source": [
    "# Function pointers\n",
    "\n",
    "If you wish to pass a function to a procedure you will need to pass a pointer to the function.\n",
    "\n",
    "This is done, for instance, in the *nix system sorting routines, where we pass a comparison function to the sorting algorithms, thereby making the algorithms polymorphic:"
   ]
  },
  {
   "cell_type": "code",
   "execution_count": null,
   "id": "6f6c6c4a-1c52-4237-8f0f-2665eb51452d",
   "metadata": {},
   "outputs": [],
   "source": [
    "man qsort"
   ]
  },
  {
   "cell_type": "markdown",
   "id": "fa73ede8-ec27-4f05-9ef3-ad192105692c",
   "metadata": {},
   "source": [
    "Function pointer declarations require careful use of parentheses.  The declaration\n",
    "<code>\n",
    "    double (*fun_pt)(double, double);\n",
    "</code>\n",
    "defines a pointer to a function with two `double` inputs and which returns a `double`.  On the other hand, the declaration\n",
    "<code>\n",
    "    double *fun_pt(double, double);\n",
    "</code>\n",
    "would be the function prototype for a function with two `double` inputs and which returns a pointer to a `double`."
   ]
  },
  {
   "cell_type": "markdown",
   "id": "a01ad9b4-25f7-401c-a1db-6456ef35c0b4",
   "metadata": {},
   "source": [
    "As needed a function name will be implicitly converted to a function pointer.  Here we convert `pow()` from the C math library to a pointer:"
   ]
  },
  {
   "cell_type": "code",
   "execution_count": null,
   "id": "56a4fa7c-53b3-4cff-88f4-c80c43c48036",
   "metadata": {},
   "outputs": [],
   "source": [
    "cat -n src/fun_pt.c"
   ]
  },
  {
   "cell_type": "code",
   "execution_count": null,
   "id": "6d675a3d-f4be-4f11-87e4-c31405717d25",
   "metadata": {},
   "outputs": [],
   "source": [
    "gcc -Wall -pedantic src/fun_pt.c"
   ]
  },
  {
   "cell_type": "code",
   "execution_count": null,
   "id": "c32ab739-5efb-4bd7-8357-9020f469fdf8",
   "metadata": {},
   "outputs": [],
   "source": [
    "./a.out"
   ]
  },
  {
   "cell_type": "markdown",
   "id": "737168b1",
   "metadata": {},
   "source": [
    "# Dynamic memory allocation\n",
    "\n",
    "In C you can dynamically allocate new objects in memory.  These are not to be confused with the **automatic variables**, variables that are local to functions that pass in and out of existence when functions are called.\n",
    "\n",
    "In this discussion we will differentiate between two types of memory:\n",
    "* [**stack memory**](https://en.wikipedia.org/wiki/Stack-based_memory_allocation), which is where things like automatic variables reside (along with a lot of other information needed by the program), and\n",
    "* [**heap memory**](https://en.wikipedia.org/wiki/Memory_management#Dynamic_memory_allocation), which is where we can dynamically allocate memory whose contents persist.\n",
    "\n",
    "Each computational process that is running on your computer has its own stack memory.  Because each process has a chunk of stack memory and there are a lot of processes, stack memory is limited in size.\n",
    "\n",
    "Heap memory, on the other hand, is much more plentiful.\n",
    "\n",
    "There is a family of functions in C you can use to dynamically allocate memory to create new arrays and other objects.  The most commonly encountered memory allocation function is called `malloc()`:"
   ]
  },
  {
   "cell_type": "code",
   "execution_count": null,
   "id": "2d8365fc",
   "metadata": {},
   "outputs": [],
   "source": [
    "cat src/malloc.txt"
   ]
  },
  {
   "cell_type": "markdown",
   "id": "b98c1a9b",
   "metadata": {},
   "source": [
    "The function `malloc()` allocates a contiguous region of memory and returns a pointer to the beginning of the region.  **It does not initialize the allocated memory.**\n",
    "\n",
    "The function `calloc()` does the same thing as `malloc()` but also clears the allocated region by initializing all the bytes to be zero.  Depending on the situation you might or might not want to incur this overhead (e.g., if you immediately write values to the allocated region there is no need to initialize it to zero)."
   ]
  },
  {
   "cell_type": "markdown",
   "id": "fc655b6e-e179-4ee6-a73f-718dbb028a8d",
   "metadata": {},
   "source": [
    "<div class=\"danger\"></div>\n",
    "🐞 If you use <code>malloc()</code>, do not assume the allocated memory is full of anything except random bytes. 🐞"
   ]
  },
  {
   "cell_type": "markdown",
   "id": "3f3c9667-0efe-4420-b11e-2834e817cd82",
   "metadata": {},
   "source": [
    "The return type of `malloc()` and `calloc()` is `void*`.  The `void*` type is C's way of indicating a generic memory address.  One typically converts (casts) the value returned by `malloc()` or `calloc()` to another type.  Here we use these functions to allocate arrays of length `n`:"
   ]
  },
  {
   "cell_type": "code",
   "execution_count": null,
   "id": "d6411829",
   "metadata": {},
   "outputs": [],
   "source": [
    "cat -n src/alloc.c"
   ]
  },
  {
   "cell_type": "code",
   "execution_count": null,
   "id": "81ab9177",
   "metadata": {},
   "outputs": [],
   "source": [
    "clang -Wall -pedantic src/alloc.c"
   ]
  },
  {
   "cell_type": "code",
   "execution_count": null,
   "id": "3e495ff2",
   "metadata": {},
   "outputs": [],
   "source": [
    "./a.out"
   ]
  },
  {
   "cell_type": "markdown",
   "id": "0b3f0a0f",
   "metadata": {},
   "source": [
    "Notice the different calling sequences for `malloc()` and `calloc()`: `malloc()` takes as its input the total number of bytes that are to be allocated, while `calloc()` takes the number of objects (doubles, ints) and the size of the individual objects (in bytes).\n",
    "\n",
    "If the memory allocation fails, say, because there is insufficient memory available, then these functions return the special value `nullptr`, [the null pointer](https://en.wikipedia.org/wiki/Null_pointer) (`NULL` prior to C23).  The null pointer is an invalid address (typically `0`) that no program should ever reference in the course of normal operation and attempting to access address `nullptr` will result in a runtime error:"
   ]
  },
  {
   "cell_type": "code",
   "execution_count": null,
   "id": "cdab7eb2-bfc7-444a-aff7-6b05118ece21",
   "metadata": {},
   "outputs": [],
   "source": [
    "cat -n src/null.c"
   ]
  },
  {
   "cell_type": "code",
   "execution_count": null,
   "id": "d7b49d41-7428-4344-96fa-28ee97f07d18",
   "metadata": {},
   "outputs": [],
   "source": [
    "clang -Wall -std=c23 src/null.c"
   ]
  },
  {
   "cell_type": "code",
   "execution_count": null,
   "id": "f5e5c162-dd6f-4a22-af00-e34a51a68d79",
   "metadata": {},
   "outputs": [],
   "source": [
    "./a.out"
   ]
  },
  {
   "cell_type": "markdown",
   "id": "a07b0b2e-1d2d-4369-8d0f-92ca94c76310",
   "metadata": {},
   "source": [
    "Here is a common C idiom that attempts a memory allocation and checks for an error.  It uses an assignment operator:"
   ]
  },
  {
   "cell_type": "code",
   "execution_count": null,
   "id": "6bc395bf",
   "metadata": {},
   "outputs": [],
   "source": [
    "cat -n src/alloc1.c"
   ]
  },
  {
   "cell_type": "markdown",
   "id": "e2402a68",
   "metadata": {},
   "source": [
    "In line 9 we first set `x = (double*) malloc(n * sizeof(double))`.  We then check whether `x == nullptr`.  If so, we print an error message.\n",
    "\n",
    "The function `free()` takes a pointer as its input and frees the memory it points to.  It assumes that the pointer points to buffer (chunk of memory) allocated using one of C's memory allocation functions.  If not, you will encounter a runtime error:"
   ]
  },
  {
   "cell_type": "code",
   "execution_count": null,
   "id": "60b4aa62-0c9a-43a4-98a2-12987390b480",
   "metadata": {},
   "outputs": [],
   "source": [
    "cat -n src/free.c"
   ]
  },
  {
   "cell_type": "code",
   "execution_count": null,
   "id": "69305ffe-23b3-49b6-8850-f472c78ec921",
   "metadata": {},
   "outputs": [],
   "source": [
    "clang -Wall src/free.c"
   ]
  },
  {
   "cell_type": "code",
   "execution_count": null,
   "id": "46612077-9e01-43de-a14f-ed72ab3df0e0",
   "metadata": {},
   "outputs": [],
   "source": [
    "./a.out"
   ]
  },
  {
   "cell_type": "markdown",
   "id": "e4c1e2f7-0a59-4127-94c1-74bfd6eba33f",
   "metadata": {},
   "source": [
    "C does not perform garbage collection &ndash; it is up to you to clean up and release memory when you are done with it.  If you do not, it is possible that you will run out of memory.  When we look at memory access errors we will look at a particular type of runtime error called a [memory leak](https://en.wikipedia.org/wiki/Memory_leak) which results from a failure to properly manage memory usage.\n",
    "\n",
    "Typically all allocated memory is released when a program ends.  I say \"typically\" since I have worked with a stripped-down Unix operating system where this was not the case, and failure to explicitly call `free()` to release memory could cause the operating system to run out of memory and the system would crash."
   ]
  },
  {
   "cell_type": "markdown",
   "id": "a346f785-4235-47ff-babf-a47376ced098",
   "metadata": {},
   "source": [
    "# Stack overflow!\n",
    "\n",
    "Variables that are local to functions are allocated on the stack.  However, the stack is limited in size (though C provides ways to resize it).\n",
    "\n",
    "This means that if you have a local array that is too big to fit in the stack memory, then you'll crash."
   ]
  },
  {
   "cell_type": "code",
   "execution_count": null,
   "id": "63b7f68f-f8de-4f68-b5c0-39ebaf33ebb3",
   "metadata": {},
   "outputs": [],
   "source": [
    "cat -n src/stack_overflow.c"
   ]
  },
  {
   "cell_type": "code",
   "execution_count": null,
   "id": "13023207-9d19-4cf2-8152-e4a9d1da0c7b",
   "metadata": {},
   "outputs": [],
   "source": [
    "gcc src/stack_overflow.c"
   ]
  },
  {
   "cell_type": "code",
   "execution_count": null,
   "id": "fa784a28-4995-4f6f-81df-c75657a2c0fd",
   "metadata": {},
   "outputs": [],
   "source": [
    "./a.out"
   ]
  },
  {
   "cell_type": "markdown",
   "id": "54f326e8-eceb-4dcc-88d7-6d82dabefdb2",
   "metadata": {},
   "source": [
    "Variable length arrays also seem to have the same problem:"
   ]
  },
  {
   "cell_type": "code",
   "execution_count": null,
   "id": "5bc7c316-5d85-4348-a449-30ef04273b62",
   "metadata": {},
   "outputs": [],
   "source": [
    "cat -n src/vla.c"
   ]
  },
  {
   "cell_type": "code",
   "execution_count": null,
   "id": "e408f6f8-6e2a-45f1-aad0-533a02f4933e",
   "metadata": {},
   "outputs": [],
   "source": [
    "gcc src/vla.c"
   ]
  },
  {
   "cell_type": "code",
   "execution_count": null,
   "id": "e1bf6868-4154-427e-a6c5-265ed161c6f6",
   "metadata": {},
   "outputs": [],
   "source": [
    "./a.out"
   ]
  }
 ],
 "metadata": {
  "kernelspec": {
   "display_name": "Bash",
   "language": "bash",
   "name": "bash"
  },
  "language_info": {
   "codemirror_mode": "shell",
   "file_extension": ".sh",
   "mimetype": "text/x-sh",
   "name": "bash"
  }
 },
 "nbformat": 4,
 "nbformat_minor": 5
}
