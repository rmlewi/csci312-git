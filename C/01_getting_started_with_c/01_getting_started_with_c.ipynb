{
 "cells": [
  {
   "cell_type": "markdown",
   "id": "be48992c-c532-41b5-aa8d-d5cede831d1e",
   "metadata": {},
   "source": [
    "<div style=\"text-align:center;\">\n",
    "    <img src=\"http://www.cs.wm.edu/~rml/images/wm_horizontal_single_line_full_color.png\">\n",
    "    <h1>CSCI 312-01, Fall 2025</h1>\n",
    "    <h1>Effective C, Chapter 1</h1>\n",
    "    <h1>Getting started with C</h1>\n",
    "</div>"
   ]
  },
  {
   "cell_type": "markdown",
   "id": "b74f1878-596e-4e82-a401-e0555ded264b",
   "metadata": {},
   "source": [
    "# Contents\n",
    "\n",
    "* [Hello, world!](#Hello,-world!)\n",
    "* [Compilation and linkage](#Compilation-and-linkage)\n",
    "    * [Compilation and linkage in one step](#Compilation-and-linkage-in-one-step)\n",
    "    * [Compilation and linkage in multiple steps](#Compilation-and-linkage-in-multiple-steps)\n",
    "* [Statements and comments](#Statements-and-comments)\n",
    "* [The C standard](#The-C-standard)\n",
    "    * [Implementation-defined behavior](#Implementation-defined-behavior)\n",
    "    * [Unspecified behavior](#Unspecified-behavior)\n",
    "    * [Undefined behavior](#Undefined-behavior)\n",
    "    * [Locale-specific behavior and common extensions](#Locale-specific-behavior-and-common-extensions)"
   ]
  },
  {
   "cell_type": "markdown",
   "id": "476a62d8-ba92-43d5-9944-ac1bdc8bfce4",
   "metadata": {},
   "source": [
    "# Python vs. C vs. C++ vs. Java\n",
    "\n",
    "|           | Python          | C            | C++   | Java  |\n",
    "| :--------:| :-------------: | :----------: | :---: | :---: |\n",
    "| printing to standard output | `print()`   | `printf()` | `std::cout <<`<br/>`std::println()` | `System.out.println()`<br/> `System.out.printf()` |\n",
    "| string literals | `'boo!'` or `\"boo!\"` | `\"boo!\"` | same as C | same as C |"
   ]
  },
  {
   "cell_type": "markdown",
   "id": "8abc4aa2-248e-4840-bb0f-dbcffd40bd40",
   "metadata": {},
   "source": [
    "# Hello, world!\n",
    "\n",
    "We begin with <a href=\"https://en.wikipedia.org/wiki/%22Hello,_World!%22_program\">\"Hello, world!\"</a>.  This program simply prints \"Hello, world!\" (without the quotation marks) to the screen and stops.  The actual C code is in a file named `hello.c`; here we use the &#42;nix command `cat` to show the file."
   ]
  },
  {
   "cell_type": "code",
   "execution_count": 2,
   "id": "12bcb373-9eee-4d92-bc43-eb9a593f6c0d",
   "metadata": {},
   "outputs": [
    {
     "name": "stdout",
     "output_type": "stream",
     "text": [
      "     1\t// Hello, world!\n",
      "     2\t#include <stdio.h>\n",
      "     3\tint main(int argc, char **argv)\n",
      "     4\t{\n",
      "     5\t  printf(\"Hello, world!\\n\");\n",
      "     6\t  return 0;\n",
      "     7\t}\n"
     ]
    }
   ],
   "source": [
    "cat -n src/hello.c  # cat is a command to concatenate and print files; \n",
    "                     # the -n option gives us line numbers."
   ]
  },
  {
   "cell_type": "markdown",
   "id": "9280a0d8-5c6a-44db-b08d-48d087971a6d",
   "metadata": {},
   "source": [
    "As you can see, this is considerably more complicated than the Python equivalent,\n",
    "<p style=\"text-indent: 4em\"><code>print(\"Hello, world!\")</code></p>\n",
    "\n",
    "Let's delve into the code.\n",
    "\n",
    "**Line 1.**  This is a C preprocessor directive.  The file `stdio.h` is called a **header file** (hence the suffix `.h`) since it appears at the head of the file.  The name `stdio.h` comes from the fact that this file contains information about **standard i/o**.  The code in this file is inserted by the C preprocessor at the location of the `#include` directive.  This particular file contains, among many other things, a **function prototype** for the function `printf()` describing the number and type of inputs to the function and the type of the value returned by `printf()`.  The function `printf()` returns an integer that is the number of bytes successfully printed (14, in this case).\n",
    "\n",
    "**Line 3.**  The function `main()` is where execution begins.  In Python this role is played by the file for which \n",
    "<p style=\"text-indent: 4em\"><code>__name__ == __main__</code></p>\n",
    "\n",
    "**Every C/C++/Java program must have a `main()`.**\n",
    "\n",
    "The `int` in front of `main()` is a **type declaration**.  Here it says that `main()` is a function that returns a value of type `int` (integer).  There are also two inputs to `main()`, an `int` named `argc` and a variable of type `char**` (we will explain this later) named `argv`.  The argument `argc` is the number of elements in `argv`, while `argv` is an array of strings that contains the command line arguments; Python's [`sys.argv`](https://docs.python.org/3/library/sys.html#sys.argv) is the equivalent (Python borrowed the idea from C).\n",
    "\n",
    "**Lines 4 and 7.**  In C/C++ the body of a function is enclosed in squiggly brackets `{ }`, whereas in Python it is indented.  **Indentation has no syntactic meaning in C/C++.**.\n",
    "\n",
    "**Line 5.**  Here `printf()` is a function similar to Python's `print()` function. Unlike Python's `print()` the `printf()` function in C does not include a newline by default so we must do so ourselves with `\\n`.  The escape characters (e.g., `\\t` for tab) are the same in C/C++/Java as in Python.\n",
    "\n",
    "Strings in C/C++/Java are delimited by double quotes: `\"Hello, world!\\n\"`.  Single quotes are not an option as they are in Python.\n",
    "\n",
    "**Line 6.**  Finally, the `return` statement is familiar from Python.  Here the return value is returned to the program's execution environment."
   ]
  },
  {
   "cell_type": "markdown",
   "id": "4cf7f6d4-8b47-4a64-a964-bde1ca1386ce",
   "metadata": {},
   "source": [
    "<img src=\"https://www.cs.wm.edu/~rml/images/danger.svg\" style=\"height: 30px\"/>  We will use the K&amp;R convention of writing parentheses after the names of functions, e.g., <code>printf()</code>, to indicate we are talking about a function."
   ]
  },
  {
   "cell_type": "markdown",
   "id": "6f2e9f56-d28b-4464-b07a-7cb1d78793d1",
   "metadata": {},
   "source": [
    "# Compilation and linkage\n",
    "\n",
    "We will need to build a binary executable from our C source file.  This is another way in which C differs from Python.\n",
    "\n",
    "There are two steps:\n",
    "1. **compilation**, which translates our C source file `hello.c` into a binary **object file**, and\n",
    "2. **linkage**, which takes the object files as well as any library object files that are needed and stitches them together into a binary executable.\n",
    "\n",
    "Part of the fun of compiled languages is that you can run into problems at both steps."
   ]
  },
  {
   "cell_type": "markdown",
   "id": "9071dd26-c261-42b8-b4d3-fce49247cc4f",
   "metadata": {},
   "source": [
    "## Compilation and linkage in one step\n",
    "\n",
    "First we use the GNU C compiler `gcc` to perform both compilation and linkage in one invocation.  The convention in &#42;nix is that options for commands are specified with flags that begin with `-` (\"dash\" or \"minus\") or `--` (\"dash dash\" or \"minus minus\").  We are specifying the options\n",
    "* `-Wall -pedantic`, which means turn on all warnings (`-Wall`) and pedantic cautions (`-pedantic`), and \n",
    "* `-o hello`, which means \"create the output file `hello`\"."
   ]
  },
  {
   "cell_type": "markdown",
   "id": "13384c96-63eb-44f5-b8bc-81844a5b9c7d",
   "metadata": {},
   "source": [
    "Here we use the GNU C compiler `gcc` to perform both compilation and linkage in one invocation.  The convention in &#42;nix is that options for commands are specified with flags that begin with `-` (\"dash\" or \"minus\") or `--` (\"dash dash\" or \"minus minus\").  We are specifying the options\n",
    "* `-Wall -pedantic`, which means turn on all warnings (`-Wall`) and pedantic cautions (`-pedantic`), and \n",
    "* `-o hello`, which means \"create the output file `hello`\"."
   ]
  },
  {
   "cell_type": "code",
   "execution_count": 4,
   "id": "731089e3-305c-40f1-9d51-947a1a2bada1",
   "metadata": {},
   "outputs": [],
   "source": [
    "gcc -Wall -pedantic -o hello src/hello.c  "
   ]
  },
  {
   "cell_type": "markdown",
   "id": "ef68dc86-841e-4d90-8d9f-f1c0e83c6963",
   "metadata": {},
   "source": [
    "Let's confirm there is a newly created binary named `hello`."
   ]
  },
  {
   "cell_type": "code",
   "execution_count": 6,
   "id": "3b1c1cdf-41a5-46f2-9d02-e824f256968a",
   "metadata": {},
   "outputs": [
    {
     "name": "stdout",
     "output_type": "stream",
     "text": [
      "Thu Sep  4 17:56:00 EDT 2025\n",
      "72 -rwxr-xr-x  1 rml  staff  33432 Sep  4 17:55 hello\n",
      "hello: Mach-O 64-bit executable arm64\n"
     ]
    }
   ],
   "source": [
    "date          # Print current date and time.\n",
    "ls -ls hello  # List information about the file hello, including last modified date.\n",
    "file hello    # Check what type of file hello is."
   ]
  },
  {
   "cell_type": "markdown",
   "id": "7d837bd2-43ce-4fef-85a6-ff2c56f076a8",
   "metadata": {},
   "source": [
    "As you can see, the file `hello` was just created.\n",
    "\n",
    "The `file` command tells us that the executable is for a 64-bit ARM architecture running the Mach kernel.  Mach is at the core of the MacOS operating system.\n",
    "\n",
    "If you omit the `-o` option the executable will be named `a.out` by default:"
   ]
  },
  {
   "cell_type": "code",
   "execution_count": 8,
   "id": "06667f79-4626-4daf-ab42-9dfb0d75a4b7",
   "metadata": {},
   "outputs": [],
   "source": [
    "gcc -Wall -pedantic src/hello.c "
   ]
  },
  {
   "cell_type": "markdown",
   "id": "546b25a5-28c3-4e81-9160-aee5b113a655",
   "metadata": {},
   "source": [
    "Let's check that the executable was just built:"
   ]
  },
  {
   "cell_type": "code",
   "execution_count": 10,
   "id": "61d3b10f-805b-487c-bea9-7f25cf94e528",
   "metadata": {},
   "outputs": [
    {
     "name": "stdout",
     "output_type": "stream",
     "text": [
      "Thu Sep  4 17:56:15 EDT 2025\n",
      "72 -rwxr-xr-x  1 rml  staff  33432 Sep  4 17:56 a.out\n"
     ]
    }
   ],
   "source": [
    "date          # Print current date and time.\n",
    "ls -ls a.out  # List information about the file hello, including last modified date."
   ]
  },
  {
   "cell_type": "markdown",
   "id": "9953e364-cbc4-4910-af79-a4dac7952e62",
   "metadata": {},
   "source": [
    "## Compilation and linkage in multiple steps\n",
    "\n",
    "We can also stop at the compilation stage by specifying the `-c` option.  This will create an object file named `hello.o`."
   ]
  },
  {
   "cell_type": "code",
   "execution_count": 11,
   "id": "4f8368a1-6f55-4e54-81e8-298b46746da9",
   "metadata": {},
   "outputs": [],
   "source": [
    "gcc -Wall -pedantic -c src/hello.c"
   ]
  },
  {
   "cell_type": "code",
   "execution_count": 12,
   "id": "7ef897af-6ea2-4000-9ee6-e25375baca05",
   "metadata": {},
   "outputs": [
    {
     "name": "stdout",
     "output_type": "stream",
     "text": [
      "Thu Sep  4 17:56:20 EDT 2025\n",
      "8 -rw-r--r--  1 rml  staff  752 Sep  4 17:56 hello.o\n",
      "hello.o: Mach-O 64-bit object arm64\n"
     ]
    }
   ],
   "source": [
    "date  # The time and date.\n",
    "ls -ls hello.o  # List information about hello.o.\n",
    "file hello.o  # What type is the file hello.o."
   ]
  },
  {
   "cell_type": "markdown",
   "id": "d3dd4f80-a615-4372-a746-236fc835ed3d",
   "metadata": {},
   "source": [
    "We can then start with the object file `hello.o` and carry out the linkage step."
   ]
  },
  {
   "cell_type": "code",
   "execution_count": 13,
   "id": "5cd7eb09-bac6-4fc8-b0ac-c8ea27ef3c25",
   "metadata": {},
   "outputs": [],
   "source": [
    "gcc -o hello hello.o"
   ]
  },
  {
   "cell_type": "code",
   "execution_count": 14,
   "id": "45a8489f-6815-4dd3-a323-2e29b8606bbe",
   "metadata": {},
   "outputs": [
    {
     "name": "stdout",
     "output_type": "stream",
     "text": [
      "Thu Sep  4 17:56:25 EDT 2025\n",
      "72 -rwxr-xr-x  1 rml  staff  33432 Sep  4 17:56 hello\n",
      "hello: Mach-O 64-bit executable arm64\n"
     ]
    }
   ],
   "source": [
    "date          # Print date and time.\n",
    "ls -ls hello  # List information about the file hello, including last modified date.\n",
    "file hello    # Check what type of file hello is."
   ]
  },
  {
   "cell_type": "markdown",
   "id": "bac9b34b-c436-4e2b-a9bd-41a7c5539252",
   "metadata": {},
   "source": [
    "Later we will look at `make`, a simple &#42;nix tool for automating builds like this."
   ]
  },
  {
   "cell_type": "markdown",
   "id": "e8c9debd-6bc1-4066-add6-c958315cbf5f",
   "metadata": {},
   "source": [
    "# Statements and comments\n",
    "\n",
    "**In C statements are terminated by a semicolon**.  The fact that statements in C are terminated by a semicolon (rather than the end of a line, which is typical in Python) means that it is easy to split statements over multiple lines.\n",
    "\n",
    "This is what happens if you omit a semicolon:"
   ]
  },
  {
   "cell_type": "code",
   "execution_count": 17,
   "id": "c0008de7-1afe-46cd-82bc-646623def291",
   "metadata": {},
   "outputs": [
    {
     "name": "stdout",
     "output_type": "stream",
     "text": [
      "     1\t// Statements must end with a semicolon.\n",
      "     2\t#include <stdio.h>\n",
      "     3\tint main(void)\n",
      "     4\t{\n",
      "     5\t  printf(\"Hello, world!\\n\")\n",
      "     6\t  return 0\n",
      "     7\t}\n"
     ]
    }
   ],
   "source": [
    "cat -n src/no_semicolon.c"
   ]
  },
  {
   "cell_type": "code",
   "execution_count": 18,
   "id": "1cbeccd8-2edf-4cf7-b028-51ab69cfb7af",
   "metadata": {},
   "outputs": [
    {
     "name": "stdout",
     "output_type": "stream",
     "text": [
      "\u001b[1msrc/no_semicolon.c:5:28: \u001b[0m\u001b[0;1;31merror: \u001b[0m\u001b[1mexpected ';' after\n",
      "      expression\u001b[0m\n",
      "    5 |   printf(\u001b[0;32m\"Hello, world!\\n\"\u001b[0m)\u001b[0m\n",
      "      | \u001b[0;1;32m                           ^\n",
      "\u001b[0m      | \u001b[0;32m                           ;\n",
      "\u001b[0m\u001b[1msrc/no_semicolon.c:6:11: \u001b[0m\u001b[0;1;31merror: \u001b[0m\u001b[1mexpected ';' after return\n",
      "      statement\u001b[0m\n",
      "    6 |   \u001b[0;34mreturn\u001b[0m \u001b[0;32m0\u001b[0m\n",
      "      | \u001b[0;1;32m          ^\n",
      "\u001b[0m      | \u001b[0;32m          ;\n",
      "\u001b[0m2 errors generated.\n"
     ]
    },
    {
     "ename": "",
     "evalue": "1",
     "output_type": "error",
     "traceback": []
    }
   ],
   "source": [
    "gcc -Wall -pedantic -c src/no_semicolon.c"
   ]
  },
  {
   "cell_type": "markdown",
   "id": "bd9cf5f5-0b55-4347-907c-39e3758fa19c",
   "metadata": {},
   "source": [
    "There are two ways to indicate comments in C:\n",
    "* `//` acts like `#` in Python: everything from `//` to the end of a line is a comment;\n",
    "* block comments (one or more lines) are delimited by `/*  */`.\n",
    "\n",
    "`// I am a C comment.`\n",
    "\n",
    "`/* I am also a C comment. */`\n",
    "\n",
    "<pre>\n",
    "/*\n",
    "I\n",
    "am\n",
    "a\n",
    "multiline\n",
    "C\n",
    "comment.\n",
    "*/\n",
    "</pre>"
   ]
  },
  {
   "cell_type": "markdown",
   "id": "a113dad7-61c4-4362-95e5-8b4492127842",
   "metadata": {},
   "source": [
    "The second example above shows how to quickly disable blocks of code by commenting them out, in the same way you can enclose Python code in '''  ''' to turn it into a string that is ignored.\n",
    "\n",
    "A popular style for block (multiline) comments is to begin each line with a star:\n",
    "<pre>\n",
    "/*\n",
    " * I prefer formatting multiline comments this\n",
    " * way so that the body of the comment is clear.\n",
    " */\n",
    "</pre>"
   ]
  },
  {
   "cell_type": "markdown",
   "id": "b659b616-25b1-4fb2-b66c-13c9909a5c00",
   "metadata": {},
   "source": [
    "You cannot nest block comments:"
   ]
  },
  {
   "cell_type": "code",
   "execution_count": 20,
   "id": "22a9ce21-2d5f-4041-926d-1a8b07804a3d",
   "metadata": {},
   "outputs": [
    {
     "name": "stdout",
     "output_type": "stream",
     "text": [
      "     1\t// You cannot nest block comments.\n",
      "     2\t#include <stdio.h>\n",
      "     3\tint main(int argc, char **argv)\n",
      "     4\t{\n",
      "     5\t  /* You cannot /* nest block comments */. */\n",
      "     6\t  return 0;\n",
      "     7\t}\n"
     ]
    }
   ],
   "source": [
    "cat -n src/nested_comments.c"
   ]
  },
  {
   "cell_type": "code",
   "execution_count": 21,
   "id": "1ada27d4-fe06-4f8e-b8b3-d3e01bbc2cd6",
   "metadata": {},
   "outputs": [
    {
     "name": "stdout",
     "output_type": "stream",
     "text": [
      "\u001b[1msrc/nested_comments.c:5:17: \u001b[0m\u001b[0;1;35mwarning: \u001b[0m\u001b[1m'/*' within block\n",
      "      comment [-Wcomment]\u001b[0m\n",
      "    5 |   \u001b[0;33m/* You cannot /* nest block comments */\u001b[0m. */\u001b[0m\n",
      "      | \u001b[0;1;32m                ^\n",
      "\u001b[0m\u001b[1msrc/nested_comments.c:5:42: \u001b[0m\u001b[0;1;31merror: \u001b[0m\u001b[1mexpected expression\u001b[0m\n",
      "    5 |   \u001b[0;33m/* You cannot /* nest block comments */\u001b[0m. */\u001b[0m\n",
      "      | \u001b[0;1;32m                                         ^\n",
      "\u001b[0m1 warning and 1 error generated.\n"
     ]
    },
    {
     "ename": "",
     "evalue": "1",
     "output_type": "error",
     "traceback": []
    }
   ],
   "source": [
    "gcc src/nested_comments.c"
   ]
  },
  {
   "cell_type": "markdown",
   "id": "88184ca9-b875-4184-8b96-10be10c3dce3",
   "metadata": {},
   "source": [
    "# The C standard\n",
    "\n",
    "The C standard is **extremely** permissive and an implementation of C can be a Choose Your Own Adventure story.\n",
    "\n",
    "This stems from the wide variety of architectures in which C has operated over the past 50+ years.\n",
    "\n",
    "In addition, there are a number of dialects of C (e.g., GNU C) that contain non-standard features.\n",
    "\n",
    "Here we call attention to portability of C code between different architectures.  The following descriptions are taken from *Effective C*."
   ]
  },
  {
   "cell_type": "markdown",
   "id": "55462132-1c58-48aa-850c-07485dd93607",
   "metadata": {},
   "source": [
    "## Implementation-defined behavior\n",
    "\n",
    "<blockquote>\n",
    "<b>Implementation-defined behavior</b> is program behavior that is not specified by the C standard and that may produce different results between implementations but has consistent, documented behavior within an implementation. An example of implementation-defined behavior is the number of bits in a byte.\n",
    "</blockquote>\n",
    "\n",
    "🤯🤯🤯🤯 Yes, the number of bits in a byte may (and does) vary between C implementations. 🤯🤯🤯🤯"
   ]
  },
  {
   "cell_type": "markdown",
   "id": "a51de95b-6a04-4457-aebc-a4351654a366",
   "metadata": {},
   "source": [
    "## Unspecified behavior \n",
    "\n",
    "<blockquote>\n",
    "<b>Unspecified behavior</b> is program behavior for which the standard provides two or more options but doesn’t mandate which option is chosen in any instance. Each execution of a given expression may yield different results or produce a different value than a previous execution of the same expression. An example of unspecified behavior is function parameter storage layout, which can vary among function invocations within the same program.\n",
    "</blockquote>"
   ]
  },
  {
   "cell_type": "markdown",
   "id": "ec9d64d0-26a8-4000-896a-c37d40e47117",
   "metadata": {},
   "source": [
    "## Undefined behavior\n",
    "\n",
    "<blockquote>\n",
    "<b>Undefined behavior</b> is behavior that isn’t defined by the C standard or, less circularly, “behavior, upon use of a nonportable or erroneous program construct or of erroneous data, for which the standard imposes no requirements” (ISO/IEC 9899:2024). Examples of undefined behavior include signed integer overflow and dereferencing an invalid pointer value. Code that has undefined behavior is often incorrect, but not always. </blockquote>\n",
    "\n",
    "🐞🐞🐞🐞 You definitely want to avoid undefined behavior. 🐞🐞🐞🐞"
   ]
  },
  {
   "cell_type": "markdown",
   "id": "96bd795a-736c-405c-a4be-8ec9ab1b5433",
   "metadata": {},
   "source": [
    "## Locale-specific behavior and common extensions\n",
    "\n",
    "<blockquote>\n",
    "<b>Locale-specific behavior</b> depends on local conventions of nationality, culture, and language that each implementation documents.  <b>Common extensions</b> are widely used in many systems but are not portable to all implementations.\n",
    "</blockquote>"
   ]
  }
 ],
 "metadata": {
  "kernelspec": {
   "display_name": "Bash",
   "language": "bash",
   "name": "bash"
  },
  "language_info": {
   "codemirror_mode": "shell",
   "file_extension": ".sh",
   "mimetype": "text/x-sh",
   "name": "bash"
  }
 },
 "nbformat": 4,
 "nbformat_minor": 5
}
