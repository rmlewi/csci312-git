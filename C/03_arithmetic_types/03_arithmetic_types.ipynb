{
 "cells": [
  {
   "cell_type": "markdown",
   "id": "1e492e81-0d99-4eec-89ce-795a646ff9ec",
   "metadata": {
    "jp-MarkdownHeadingCollapsed": true
   },
   "source": [
    "<div style=\"text-align:center;\">\n",
    "    <img src=\"http://www.cs.wm.edu/~rml/images/wm_horizontal_single_line_full_color.png\">\n",
    "    <h1>CSCI 312, Fall 2025</h1>\n",
    "    <h1>Effective C, Chapter 3\n",
    "    <h1>Arithmetic types!</h1>\n",
    "</div>"
   ]
  },
  {
   "cell_type": "markdown",
   "id": "65f9a3e1-b308-4bf8-94e5-9a73d3b9144d",
   "metadata": {
    "jp-MarkdownHeadingCollapsed": true
   },
   "source": [
    "# Contents\n",
    "* [Sizes of types](#Sizes-of-types)\n",
    "* [Integers](#Integers)\n",
    "    * [`char`](#char)\n",
    "    * [`short int`](#short-int)\n",
    "    * [`int`](#int)\n",
    "    * [`long int`](#long-int)\n",
    "    * [`long long int`](#long-long-int)\n",
    "* [Specification of integers in the C standard](#Specification-of-integers-in-the-C-standard)\n",
    "    * [What to expect in the wild](#What-to-expect-in-the-wild)\n",
    "* [Yet more integers!](#Yet-more-integers!)\n",
    "    * [Exact-width integers](#Exact-width-integers)\n",
    "    * [Bit-precise integers](#Bit-precise-integers)\n",
    "* [Integer overflow](#Integer-overflow)\n",
    "* [Storage classes](#Storage-classes)\n",
    "* [Arithmetic](#Arithmetic)\n",
    "* [Type conversions 🐞🐞🐞🐞](#Type-conversions-🐞🐞🐞🐞)\n",
    "* [Integer-conversions-🐞😱🐞😱](#Integer-conversions-🐞😱🐞😱)\n",
    "* [Floating point in C/C++](#Floating-point-in-C/C++)"
   ]
  },
  {
   "cell_type": "markdown",
   "id": "cb83f6b6",
   "metadata": {
    "jp-MarkdownHeadingCollapsed": true
   },
   "source": [
    "# Python vs. C vs. C++ vs. Rust vs. Typescript\n",
    "\n",
    "|           | Python          | C            | C++   | Rust  | Typescript  |\n",
    "| :--------:| :-------------: | :----------: | :---: | :---: | :---------: |\n",
    "| integer representation | ??? | two's complement<sup>0</sup> | same as C | same as C |\n",
    "| addition, subtraction, multiplication | `+,-,*`    | same  | same | same |\n",
    "| regular division | `/` | same<sup>1</sup> | same as C | same in C \n",
    "| integer division | `//` | `/`<sup>2</sup> | same as C | same in C|\n",
    "| remainder | `%` | same | same | same |\n",
    "| software integers | `int`   |    |\n",
    "| hardware integers |        | `char` | same as C | |\n",
    "|           |        | `unsigned char` | same as C | |\n",
    "|           |        | `signed char` | same as C | `byte` |\n",
    "|           |        | `short` or `short int` or `signed short int` | same as C | `short` |\n",
    "|           |        | `unsigned short` or `unsigned short int` | same as C | |\n",
    "|           |        | `int` or `signed int` | same as C | `int` |\n",
    "|           |        | `unsigned int` | same as C | |\n",
    "|           |        | `long` or `long int` or `signed long int` | same as C | `long` |\n",
    "|           |        | `unsigned long` or `unsigned long int` | same as C | |\n",
    "|           |        | `long long` or `signed long long` or `signed long long int` | same as C | |\n",
    "|           |        | `unsigned long long` or `unsigned long long int` | same as C | |\n",
    "| exact-width integers<sup>3</sup> |        | signed: `intN_t`, N = 8, 16, 32, 64 | same as C | `iN`, N = 8, 16, 32, 64 | |\n",
    "|           |        | unsigned: `uintN_t`, N = 8, 16, 32, 64  | same as C | `uiN`, N = 8, 16, 32, 64 |\n",
    "| bit-precise integers | | `_BitInt(n)`, `n` &ge; 1 | | | \n",
    "\n",
    "<sup>0</sup> As of C23. <br/>\n",
    "<sup>1</sup> When one or both operands is non-integer. <br/>\n",
    "<sup>2</sup> When both operands are integers. <br/>\n",
    "<sup>3</sup> These are implementation dependent and might not be present."
   ]
  },
  {
   "cell_type": "markdown",
   "id": "fd0a0a51",
   "metadata": {},
   "source": [
    "# Sizes of types\n",
    "\n",
    "If you program in C you will find yourself greatly concerned with the number of bytes objects occupy in memory. We will refer to this quantity as the **width** or **length** or **size** of the object or type.  Keep in mind that if you can represent $2^{n}$ distinct bit patterns using $n$ bits.\n",
    "\n",
    "You can determine the width of a variable or a type using <code class=\"kw\">sizeof()</code>.  For example, here are the widths of various flavors of integers:"
   ]
  },
  {
   "cell_type": "code",
   "execution_count": null,
   "id": "e3fda9bc",
   "metadata": {},
   "outputs": [],
   "source": [
    "cat -n src/int_widths.c"
   ]
  },
  {
   "cell_type": "code",
   "execution_count": null,
   "id": "d92648b0",
   "metadata": {},
   "outputs": [],
   "source": [
    "gcc src/int_widths.c"
   ]
  },
  {
   "cell_type": "code",
   "execution_count": null,
   "id": "428503be",
   "metadata": {},
   "outputs": [],
   "source": [
    "./a.out"
   ]
  },
  {
   "cell_type": "markdown",
   "id": "6395b42c-6d15-4a28-b03f-9c4a4fb59568",
   "metadata": {},
   "source": [
    "🐞🐞🐞🐞 Be careful &ndash; <code>sizeof()</code> is not like Python's <code>len()</code> function.  Instead, it is like Python's\n",
    "[<tt>sys.getsizeof()</tt>](https://docs.python.org/3/library/sys.html#sys.getsizeof]) function. 🐞🐞🐞🐞"
   ]
  },
  {
   "cell_type": "markdown",
   "id": "b7f1bbb9-5224-480b-90ca-f233edfb925d",
   "metadata": {},
   "source": [
    "# Integers\n",
    "\n",
    "C/C++ has more flavors of integers than you can shake a stick at.  The various types of integers differ in how many bits they comprise in hardware. \n",
    "\n",
    "This is in contrast to Python, where integers are implemented in software.  In particular, each type of integer in C/C++ can only represent a bounded range of numbers, while Python's integer system is unbounded.\n",
    "\n",
    "Because C/C++ integers depend on the underlying hardware, code may behave differently on different machines.  That said, as processors become more and more standardized the likelihood of being surprised decreases."
   ]
  },
  {
   "cell_type": "code",
   "execution_count": null,
   "id": "cddbbe95-7fed-4a73-9b7f-8e7264d456eb",
   "metadata": {},
   "outputs": [],
   "source": [
    "cat -n src/int_widths.c"
   ]
  },
  {
   "cell_type": "code",
   "execution_count": null,
   "id": "bda95c5c-3267-4bfb-8c6e-22291b3e95db",
   "metadata": {},
   "outputs": [],
   "source": [
    "./a.out"
   ]
  },
  {
   "cell_type": "markdown",
   "id": "2f5dcef2",
   "metadata": {},
   "source": [
    "Integers can be either **signed** or **unsigned**:\n",
    "* A signed integer can be either negative or non-negative. One of its bits is interpreted as a sign bit.  \n",
    "* An unsigned integer is **always nonnegative** (i.e., `>= 0`).  The bit that would otherwise be used to indicate the sign is used to double the range of nonnegative integers we can represent.\n",
    "\n",
    "The different widths of integers allows us to optimize the use of memory.  For instance, in pixel intensities in computer images are the 256 = 2<sup>8</sup> integers in the range from 0 to 255.  This means they will fit in a one-byte (8 bit) integer."
   ]
  },
  {
   "cell_type": "markdown",
   "id": "1de873ef-57ec-439a-bcc9-6ae3b2353f28",
   "metadata": {},
   "source": [
    "Some of the types are synomyms:\n",
    "* `short` = `short int` = `signed short` = `signed short int`\n",
    "* `unsigned short` = `unsigned short int`\n",
    "* `int` = `signed int`\n",
    "* `long` = `long int` = `signed long int`\n",
    "* `unsigned long` = `unsigned long int`\n",
    "* `long long` = `long long int` = `signed long long int`\n",
    "* `unsigned long long` = `unsigned long long int`"
   ]
  },
  {
   "cell_type": "markdown",
   "id": "0d5b7789-7baf-489b-901b-de6222f9ae35",
   "metadata": {},
   "source": [
    "## `char`\n",
    "\n",
    "The C standard guarantees that `sizeof(char) == 1` byte.  On consumer CPUs (e.g., x86-64 or ARM) a byte is 8 bits.\n",
    "\n",
    "<img src=\"https://www.cs.wm.edu/~rml/images/danger.svg\" style=\"height: 30px;\"/> However, keep in mind the C standard does not specify how many bits are in a byte.\n",
    "\n",
    "On some DSP chips and microcontrollers the number of bits may not be 8 (e.g., 16).\n",
    "\n",
    "<img src=\"https://www.cs.wm.edu/~rml/images/danger.svg\" style=\"height: 30px;\"/> The C standard does not specify whether `char` are signed or unsigned, so you will need to declare variables `signed char` or `unsigned char` when you want to use them to store small integers."
   ]
  },
  {
   "cell_type": "markdown",
   "id": "260f88fa-c517-4b40-9f83-f17bc6212cd5",
   "metadata": {},
   "source": [
    "## `short int`\n",
    "\n",
    "A `short int` is intended to have fewer bits an `int`. You can use `short` rather than `short int`. There is also a `unsigned short int`."
   ]
  },
  {
   "cell_type": "markdown",
   "id": "1632e7ef",
   "metadata": {},
   "source": [
    "## `int`\n",
    "\n",
    "The basic kind of integer is the signed integer `int`.  There is also an `unsigned int`.  An `unsigned int` literal is indicated with a terminal `u` or `U`:\n",
    "\n",
    "```\n",
    "2147483648u;\n",
    "2147483648U;\n",
    "```\n",
    "\n",
    "Both <code class=\"kw\">int</code> and <code class=\"kw\">unsigned int</code> have the same width; the difference is how the bit pattern is interpreted.  Here we print the signed value -1 as a signed integer (format code ```%d```, for \"decimal integer\") and an unsigned integer (format code ```%u```, for \"unsigned integer\"):"
   ]
  },
  {
   "cell_type": "code",
   "execution_count": null,
   "id": "d6920aa1",
   "metadata": {},
   "outputs": [],
   "source": [
    "cat -n src/int_format.c"
   ]
  },
  {
   "cell_type": "code",
   "execution_count": null,
   "id": "52775977",
   "metadata": {},
   "outputs": [],
   "source": [
    "clang -Wall src/int_format.c"
   ]
  },
  {
   "cell_type": "code",
   "execution_count": null,
   "id": "8d3a16c7",
   "metadata": {},
   "outputs": [],
   "source": [
    "./a.out"
   ]
  },
  {
   "cell_type": "markdown",
   "id": "1647c457",
   "metadata": {},
   "source": [
    "This illustrates once again that C views variables simply as strings of bits.  In the call to `printf()` in line 8 the `%d` code tells `printf()` to interpret the 32 bit input `n` as a signed integer, while in the call in line 11 the `%u` code tells `printf()` to interpret the 32 bit input `n` as an unsigned integer."
   ]
  },
  {
   "cell_type": "markdown",
   "id": "48f159a8",
   "metadata": {},
   "source": [
    "## `long int`\n",
    "\n",
    "Both ```long int``` and ```long long int``` are intended to have more bits than the ```int``` type.  The ```long int``` and ```long long int``` may be referred to as ```long``` and ```long long``` for short, though I usually use `long int` simply for consistency with other types.\n",
    "\n",
    "These days a `long int` is usually 64 bits (8 bytes), and a `long long int` is also usually 64 bits &ndash; it is not wider than a `long int` because there are currently no processors that support 128 bit hardware integers (in the past there were).\n",
    "\n",
    "A `long int` literal is indicated by a suffix of `l` or `L`:\n",
    "\n",
    "```\n",
    "2147483648l;  /* Don't use this since lower-case 'l' looks like a '1'. */\n",
    "2147483648L;\n",
    "```\n",
    "\n",
    "An `unsigned long int` literal is indicated by a suffix of `ul` or `UL`:\n",
    "\n",
    "```\n",
    "2147483648ul;  /* Lower-case 'l' is tolerable since it's preceeded by 'u'. */\n",
    "2147483648UL;\n",
    "```"
   ]
  },
  {
   "cell_type": "markdown",
   "id": "ab2fa476-dc30-4678-8406-b80c9bbcc5a3",
   "metadata": {},
   "source": [
    "# `long long int`\n",
    "\n",
    "For `long long int` and `unsigned long long int` literals we use double ells:\n",
    "\n",
    "```\n",
    "2147483648ll;  /* long long */\n",
    "2147483648LL;\n",
    "\n",
    "2147483648ull; /* unsigned long long */\n",
    "2147483648ULL;\n"
   ]
  },
  {
   "cell_type": "markdown",
   "id": "01c1d923",
   "metadata": {},
   "source": [
    "<img src=\"https://www.cs.wm.edu/~rml/images/danger.svg\" style=\"height: 30px;\"/>  By default, integer literals in C are of type `int`."
   ]
  },
  {
   "cell_type": "markdown",
   "id": "4f5408e4",
   "metadata": {},
   "source": [
    "# Specification of integers in the C standard\n",
    "\n",
    "The C standard specifies the following **minimal** requirements for the various types of integers.  The actual limits depend on the underlying hardware.  The implementation-defined values must be greater than or equal or magnitude (absolute value) to those shown in the table, and have the same sign.\n",
    "\n",
    "|           |           |          | \n",
    "| :-------- | :-------------: | :----------: |\n",
    "| number of bits for smallest object that is not a bit-field (byte) | 8 | |\n",
    "| minimum value for a ```signed char``` | ```-127``` | ```−(2**7 − 1)``` |\n",
    "| maximum value for a ```signed char``` | ```+127``` | ```+(2**7 − 1)``` |\n",
    "| maximum value for a ```unsigned char``` | ```255``` | ```2**8 − 1``` |\n",
    "| minimum value for a ```char``` | see below | |\n",
    "| maximum value for a ```char``` | see below | |\n",
    "| maximum number of bytes in a multibyte character | 1 |\n",
    "| minimum value for a ```short int``` | ```-32767``` | ```−(2**15 − 1)``` |\n",
    "| maximum value for a ```short int``` | ```+32767``` | ```+(2**15 − 1)``` |\n",
    "| maximum value for a ```unsigned short int``` |```65535``` | ```2**16 − 1```\n",
    "| minimum value for an ```int``` | ```-32767``` | ```−(2**15 − 1)``` |\n",
    "| maximum value for an ```int``` | ```+32767``` | ```+(2**15 − 1)``` |\n",
    "| maximum value for an ```unsigned int``` | ```65535``` | ```2**16 − 1``` |\n",
    "| minimum value for a ```long int``` | ```-2147483647``` | ```−(2**31 − 1)``` |\n",
    "| maximum value for a ```long int``` | ```+2147483647``` | ```+(2**31 − 1)``` |\n",
    "| maximum value for an ```unsigned long int``` | ```4294967295``` | ```2**32 − 1``` |\n",
    "| minimum value for a ```long long int``` | ```-9223372036854775807``` | ```−(2**63 − 1)``` |\n",
    "| maximum value for a ```long long int``` | ```+9223372036854775807``` | ```+(2**63 − 1)``` |\n",
    "| maximum value for a unsigned ```long long int``` | ```18446744073709551615``` | ```2**64 − 1``` |\n",
    "\n",
    "This means that each type must be wide enough to represent the following ranges:\n",
    "\n",
    "|           | minimum value | maximum value | minimum num. of bytes |\n",
    "| :-------- | :-------------: | :----------: | :----------: |\n",
    "| ```signed char``` | -127 | 127 | 1 |\n",
    "| ```unsigned char``` | 0 | 255 | 1 | \n",
    "| ```char``` | see below | see below | 1 | \n",
    "| ```short int``` | -32,767 | 32,767 | 2 |\n",
    "| ```unsigned short int``` | 0 | 65,535 | 2 |\n",
    "| ```int``` | -32,767 | 32,767 | 2 | \n",
    "| ```unsigned int``` | 0 | 65,535 | 2 |\n",
    "| ```long int``` | -2,147,483,647 | 2,147,483,647 | 4 |\n",
    "| ```unsigned long int``` | 0 | 4,294,967,295 | 4 | \n",
    "| ```long long int``` | -9,223,372,036,854,775,807 | 9,223,372,036,854,775,807 | 8 |\n",
    "| ```unsigned long long int``` | 0 | 18,446,744,073,709,551,615 | 8 |\n",
    "\n",
    "If the value of a ```char``` is treated as signed then the minimum and maximum values of a ```char``` are the same as that of ```signed char```. Otherwise, the minimum value of a ```char``` is ```0``` and the maximum value will be that of an ```unsigned char```.\n",
    "\n",
    "The header file [`limits.h`](https://en.wikipedia.org/wiki/C_data_types#limits.h) contains the ranges for integers for your specific C implementation."
   ]
  },
  {
   "cell_type": "markdown",
   "id": "d6b9f2e1",
   "metadata": {},
   "source": [
    "## What to expect in the wild\n",
    "\n",
    "Despite the latitude in the lengths of integers allowed by the C standard, on contemporary 64-bit consumer processors you will encounter the following:\n",
    "\n",
    "|   Type     |     bytes       |  bits        |\n",
    "| :--------: | :-------------: | :----------: |\n",
    "| ```char``` | 1 | 8 | \n",
    "| ```short``` | 2 |16 |\n",
    "| ```int``` | 4 | 32 |\n",
    "| ```long``` | 8 | 64 |\n",
    "| ```long long``` | 8 | 64 |"
   ]
  },
  {
   "cell_type": "markdown",
   "id": "38b1d9ce-5446-49d7-837e-abb3f480d1ba",
   "metadata": {},
   "source": [
    "# Yet more integers!\n",
    "\n",
    "To add to the fun, the C standard specifies yet more types of integers that might or might not be present in your implementation as they are not mandatory.  There are also integer types whose behavior is purely up to the implementation (compiler)."
   ]
  },
  {
   "cell_type": "markdown",
   "id": "bf72dd08-a7d5-4d4d-baca-d0eb1d4b5661",
   "metadata": {},
   "source": [
    "## Exact-width integers\n",
    "\n",
    "You can use exact-width integers to make sure, for instance, you've got an 8-bit integer (as opposed to a 1-byte integer, which could have more than 8 bits)."
   ]
  },
  {
   "cell_type": "code",
   "execution_count": null,
   "id": "9ea29ab7-a01e-4957-92ee-50f42231cdac",
   "metadata": {},
   "outputs": [],
   "source": [
    "cat -n src/exact_width.c"
   ]
  },
  {
   "cell_type": "code",
   "execution_count": null,
   "id": "cdc4dbb7-3983-4ebf-b817-8b47df7d9396",
   "metadata": {},
   "outputs": [],
   "source": [
    "gcc -std=c23 src/exact_width.c"
   ]
  },
  {
   "cell_type": "code",
   "execution_count": null,
   "id": "3553b81c-4f27-4ae5-a22f-398773e94961",
   "metadata": {},
   "outputs": [],
   "source": [
    "./a.out"
   ]
  },
  {
   "cell_type": "markdown",
   "id": "b7a9ce30-f86f-4561-947e-076a959c976f",
   "metadata": {},
   "source": [
    "## Bit-precise integers\n",
    "\n",
    "C23 introduced **bit-precise integers**.  These allow you to specify the exact number of bits to use."
   ]
  },
  {
   "cell_type": "code",
   "execution_count": null,
   "id": "dfcab52a-855b-4cb9-9993-efe95f1a9ba8",
   "metadata": {},
   "outputs": [],
   "source": [
    "cat -n src/bit_precise.c"
   ]
  },
  {
   "cell_type": "code",
   "execution_count": null,
   "id": "2f806f6b-d33c-4347-934a-cc2543791c40",
   "metadata": {},
   "outputs": [],
   "source": [
    "gcc -std=c23 src/bit_precise.c"
   ]
  },
  {
   "cell_type": "code",
   "execution_count": null,
   "id": "5f3b6112-aaea-485a-b004-bc0bdafb86c9",
   "metadata": {},
   "outputs": [],
   "source": [
    "./a.out"
   ]
  },
  {
   "cell_type": "markdown",
   "id": "54c055b1",
   "metadata": {},
   "source": [
    "# Integer overflow\n",
    "\n",
    "If a value lies outside the range of representable integers, strange things occur:"
   ]
  },
  {
   "cell_type": "code",
   "execution_count": null,
   "id": "3a5f6484",
   "metadata": {},
   "outputs": [],
   "source": [
    "cat -n src/int_overflow.c"
   ]
  },
  {
   "cell_type": "code",
   "execution_count": null,
   "id": "077a3a78",
   "metadata": {},
   "outputs": [],
   "source": [
    "gcc src/int_overflow.c"
   ]
  },
  {
   "cell_type": "code",
   "execution_count": null,
   "id": "60f9acdf",
   "metadata": {},
   "outputs": [],
   "source": [
    "./a.out"
   ]
  },
  {
   "cell_type": "markdown",
   "id": "f9985216",
   "metadata": {},
   "source": [
    "**'Zounds!**\n",
    "\n",
    "This phenomenon is called **integer overflow** and is a very real danger.  Integer variables that are used as counters that run a long time are particularly prone to overflow.  The results of integer overflow range \n",
    "from [the amusing](https://www.cbc.ca/news/entertainment/psy-s-gangnam-style-breaks-the-limit-of-youtube-s-video-counter-1.2860186)\n",
    "to the [disruptive](https://www.bleepingcomputer.com/news/microsoft/microsoft-exchange-year-2022-bug-in-fip-fs-breaks-email-delivery/)\n",
    "to the [potentially](http://www.cs.wm.edu/~rml/teaching/c/docs/787_overflow.pdf) [disastrous](https://en.wikipedia.org/wiki/Year_2038_problem).\n",
    "\n",
    "Overflow can also occur if you try to set an integer literal outside of its range, as in line 15 above.  In this situation the compiler is able to detect a potential problem and issues a warning.\n",
    "\n",
    "On most contemporary processors then $4294967295 = 2^{32} - 1$ should be converted to $-1$.  The reason has to do with the way signed integers are represented in hardware.  Most current architectures use what is called the [two's complement](https://en.wikipedia.org/wiki/Two's_complement) representation, and in that system the bit pattern for $4294967295$,\n",
    "```\n",
    "11111111 11111111 11111111 11111111  /* All 32 bits on. */\n",
    "```\n",
    "is, when interpreted as a signed integer, $-1$.  (In case you were wondering, the competing system is called [one's complement](https://en.wikipedia.org/wiki/Ones'_complement).)"
   ]
  },
  {
   "cell_type": "markdown",
   "id": "cd0577f3",
   "metadata": {},
   "source": [
    "<div class=\"danger\"></div><div class=\"danger\"></div>\n",
    "😱🐞 &nbsp; Watch out for integer overflow!! Using <code>long int</code> can help avoid overflow. &nbsp; 🐞😱"
   ]
  },
  {
   "cell_type": "markdown",
   "id": "082d8895-866d-4d29-9515-deaf7abd68f2",
   "metadata": {},
   "source": [
    "# Storage classes\n",
    "\n",
    "C has a number of keywords that described the desired storage for a variable.  They include\n",
    "* `const`: indicates the value of the variable cannot change;\n",
    "* `constexpr`: indicates a value to be computed at compile time;\n",
    "* `static`: indicates a persistent value or one with file scope;\n",
    "* `extern`: indicates a global variable;\n",
    "* `register`: hints that the variable should be stored in a register;\n",
    "* `volatile`: hints aht the variable may be modified in a non-obvious manner.\n",
    "\n",
    "We will not say anything about <code class=\"kw\">register</code> and <code class=\"kw\">volatile</code> other than that compilers are free to ignore them."
   ]
  },
  {
   "cell_type": "markdown",
   "id": "eab051f2-7d1c-454c-94b9-3e99e77c72b5",
   "metadata": {},
   "source": [
    "The most useful and most commonly used of these is `const`."
   ]
  },
  {
   "cell_type": "code",
   "execution_count": null,
   "id": "93468ffe-2404-4931-86c8-5ea32cf69a41",
   "metadata": {},
   "outputs": [],
   "source": [
    "cat -n src/const.c"
   ]
  },
  {
   "cell_type": "code",
   "execution_count": null,
   "id": "2b63f60c-c2d6-4903-8926-97de4ee74bea",
   "metadata": {},
   "outputs": [],
   "source": [
    "clang -Wall -pedantic src/const.c"
   ]
  },
  {
   "cell_type": "markdown",
   "id": "376d21ad-04b4-42a5-ac58-bc2e97462023",
   "metadata": {},
   "source": [
    "The `static` storage class can either indicate\n",
    "* a variable with file scope (i.e., visible to all functions in a single file), or\n",
    "* a variable local to a function whose value persists after the function returns."
   ]
  },
  {
   "cell_type": "code",
   "execution_count": null,
   "id": "dab3c0b0-2a67-4193-9422-be45d2694aba",
   "metadata": {},
   "outputs": [],
   "source": [
    "cat -n src/static.c"
   ]
  },
  {
   "cell_type": "code",
   "execution_count": null,
   "id": "e66b4464-a53c-4849-9e54-12f30053220d",
   "metadata": {},
   "outputs": [],
   "source": [
    "gcc src/static.c"
   ]
  },
  {
   "cell_type": "code",
   "execution_count": null,
   "id": "3d79af73-d70c-462b-8c03-fb75cb1cf388",
   "metadata": {
    "scrolled": true
   },
   "outputs": [],
   "source": [
    "./a.out"
   ]
  },
  {
   "cell_type": "markdown",
   "id": "05d660a2",
   "metadata": {},
   "source": [
    "# Arithmetic\n",
    "\n",
    "Arithmetic in C works the same as in Python, with one exception: watch out for integer division in C/C++/Java.  When **both** the numerator and the denominator are integers, division acts like floor division in Python; otherwise, it behaves like regular division.\n",
    "\n",
    "Thus, the expression ```5 / 9``` in C is the same as ```5 // 9``` in Python:"
   ]
  },
  {
   "cell_type": "code",
   "execution_count": null,
   "id": "0819e384",
   "metadata": {},
   "outputs": [],
   "source": [
    "cat -n src/floor_div.c"
   ]
  },
  {
   "cell_type": "code",
   "execution_count": null,
   "id": "ce470828",
   "metadata": {},
   "outputs": [],
   "source": [
    "gcc src/floor_div.c"
   ]
  },
  {
   "cell_type": "code",
   "execution_count": null,
   "id": "d268b63f",
   "metadata": {},
   "outputs": [],
   "source": [
    "./a.out"
   ]
  },
  {
   "cell_type": "markdown",
   "id": "8e7af531",
   "metadata": {},
   "source": [
    "# Type conversions 🐞🐞🐞🐞\n",
    "\n",
    "One of the trickier matters in C are type conversions.  Types can be converted either explictly, by you, or implicitly, by C.\n",
    "\n",
    "A **cast** is an explicit conversion in which you specify the type to convert to.  The syntax is\n",
    "```\n",
    "(type) expression\n",
    "```\n",
    "to obtain the value of `expression` as if it were assigned to a variable of type `type`.  Thus,\n",
    "```\n",
    "int n;\n",
    "double x;\n",
    "x = (double) n;\n",
    "```\n",
    "explicitly converts the value of an `int` to a `double`.\n",
    "\n",
    "C will also perform implicit conversions (which some call **type coercion**).  For instance, \n",
    "```\n",
    "int n;\n",
    "double x;\n",
    "x = n;\n",
    "```\n",
    "will also result in a conversion of the value of `n` to a `double`.\n",
    "\n",
    "Implicit conversions can also occur when performing arithmetic.  K&amp;R give the following informal conversion rules **provided no `unsigned` variables are involved**:\n",
    "<blockquote>\n",
    "    <ul>\n",
    "        <li>If either operand is <code>long double</code> convert the other operand <code>long double</code>.</li>\n",
    "        <li>Otherwise, if either operand is <code>double</code> convert the other operand <code>double</code>.</li>\n",
    "        <li>Otherwise, if either operand is <code>float</code> convert the other operand <code>float</code>.</li>\n",
    "        <li>Otherwise, convert <code>char</code> and <code>short</code> to <code>int</code>.</li>\n",
    "        <li>Then, if either operand is <code>long</code> convert the other to <code>long</code>.</li>\n",
    "    </ul>\n",
    "</blockquote>\n",
    "\n",
    "If any of the variables are `unsigned` then the conversion rules get complicated.  I would advise against mixing signed and unsigned types unless you are an expert (and even then there may be problems).\n",
    "\n",
    "A **widening conversion** or **promotion** is a conversion from one data type to another that can represent all possible values of the original type.  These conversions are safe.  The conversions described in the quote above are widening conversions (except for a few unlikely situations).\n",
    "\n",
    "A **narrowing conversion** is a conversion from one data type to another that **cannot** represent all possible values of the original type.  If we try to convert a value that cannot be exactly represented in the target type, there is no telling what might happen!  For instance, what happens if we try to store 1024 in an 8-bit integer?  or assign an `unsigned int` a negative value?"
   ]
  },
  {
   "cell_type": "markdown",
   "id": "bda852c1-263f-4eed-84b1-26ed870e8d2f",
   "metadata": {},
   "source": [
    "# Integer conversions 🐞😱🐞😱\n",
    "\n",
    "**Unfortunately, type conversion can be dangerous.**"
   ]
  },
  {
   "cell_type": "code",
   "execution_count": null,
   "id": "52a04afc-42ec-4a96-9e69-d08e7593df51",
   "metadata": {},
   "outputs": [],
   "source": [
    "cat -n src/int_casts.c"
   ]
  },
  {
   "cell_type": "markdown",
   "id": "dd06723d-dfb5-4dc4-b595-0069bbc04e5c",
   "metadata": {},
   "source": [
    "The implicit conversion at line 17 is a narrowing conversion:\n",
    "```\n",
    "uc = ui;\n",
    "```"
   ]
  },
  {
   "cell_type": "code",
   "execution_count": null,
   "id": "270f47a5-0abb-4343-aa01-c2f54da25d17",
   "metadata": {},
   "outputs": [],
   "source": [
    "gcc -Wall src/int_casts.c\n",
    "./a.out"
   ]
  },
  {
   "cell_type": "markdown",
   "id": "c2ab30ca-8d5c-4d77-820d-d70f687c26f9",
   "metadata": {},
   "source": [
    "## Integer conversion rules 🐞🐞🐞🐞\n",
    "\n",
    "The general rule for converting one type of integer into another is that the value of the result should be the same as the value of the original, **if that is possible**.  Here we will look at some cases where conversion behaves as we would expect, and some cases where it does not.\n",
    "\n",
    "If it is **not possible** to preserve the original value, then the conversion follows the following rules.\n",
    "\n",
    "**Rule 1**. If the result is signed, then the conversion is considered to have overflowed **and the result is undefined**.  The actual behavior will depend on the C implementation and underlying hardware. \n",
    "\n",
    "Here we show what can go wrong due to overflow."
   ]
  },
  {
   "cell_type": "code",
   "execution_count": null,
   "id": "7e456884-d470-4769-a3dd-d921b4619aaa",
   "metadata": {},
   "outputs": [],
   "source": [
    "cat -n src/conversion_1.c"
   ]
  },
  {
   "cell_type": "code",
   "execution_count": null,
   "id": "7ce682c1-3334-4502-b6c4-5ba0b3d4ed7c",
   "metadata": {},
   "outputs": [],
   "source": [
    "gcc src/conversion_1.c\n",
    "./a.out"
   ]
  },
  {
   "cell_type": "markdown",
   "id": "2780add9-c397-4cae-95bd-2aaed0a71d13",
   "metadata": {},
   "source": [
    "**Rule 2**. If the result is unsigned, then the result will be the value of the target type that is equal modulo 2<sup>n</sup> to the original value, where `n` is the number of bits used for the target type.  Since `n` depends on the hardware, the actual behavior will depend on the C implementation and underlying hardware."
   ]
  },
  {
   "cell_type": "code",
   "execution_count": null,
   "id": "0521a238-3459-4193-a15d-41d58bdabcfe",
   "metadata": {
    "scrolled": true
   },
   "outputs": [],
   "source": [
    "clang -Wall -pedantic src/conversion_2.c\n",
    "./a.out"
   ]
  },
  {
   "cell_type": "markdown",
   "id": "2c3e9e64-6f85-478b-9046-833762440591",
   "metadata": {},
   "source": [
    "**Rule 3**. If an unsigned type is converted to a signed type of the same width, the conversion is considered to have overflowed if the original value lies outside the range of values represented by the target type.  Since the behavior of overflow depends on the C implementation and underlying hardware, so does the result of this conversion."
   ]
  },
  {
   "cell_type": "code",
   "execution_count": null,
   "id": "f827eb6f-eec1-409e-b9eb-81bfb3ea3780",
   "metadata": {},
   "outputs": [],
   "source": [
    "gcc src/conversion_3.c\n",
    "./a.out"
   ]
  },
  {
   "cell_type": "markdown",
   "id": "4d48a4bb-e44b-4681-b9cf-52a441d93589",
   "metadata": {},
   "source": [
    "**Rule 4**. If a negative signed value is converted to an unsigned type of greater width, then the conversion must behave as if the original value was converted to a signed version of the target type and then converted to an unsigned version."
   ]
  },
  {
   "cell_type": "code",
   "execution_count": null,
   "id": "9fda875d-7e05-4dd1-bc1c-1daf7d50916a",
   "metadata": {},
   "outputs": [],
   "source": [
    "gcc integers/conversion_4.c\n",
    "./a.out"
   ]
  },
  {
   "cell_type": "markdown",
   "id": "4e3c26e2-353d-470b-b65f-96fdca5b09a8",
   "metadata": {},
   "source": [
    "Besides assignments, implicit conversions will also take place in boolean expressions such as `m < n`, with the potential for all manner of wacky surprises."
   ]
  },
  {
   "cell_type": "markdown",
   "id": "42f14f81",
   "metadata": {},
   "source": [
    "😱🐞😱🐞😱🐞😱🐞😱🐞😱🐞 \n",
    "\n",
    "So watch out for:\n",
    "<ul>\n",
    "<li> conversions from wider types to narrower types;\n",
    "<li> conversions between signed and unsigned types.\n",
    "</ul>\n",
    "\n",
    "Do not mix:\n",
    "<ul>\n",
    "    <li>wine and beer,</li>\n",
    "    <li>bleach and ammonia,</li>\n",
    "    <li>brown shoes and blue suits,</li>\n",
    "    <li>handguns and tequila,</li>\n",
    "    <li>signed and unsigned integers.</li>\n",
    "</ul>\n",
    "\n",
    "**You have been warned.**\n",
    "\n",
    "🐞😱🐞😱🐞😱🐞😱🐞😱🐞😱 "
   ]
  },
  {
   "cell_type": "markdown",
   "id": "acd2f5f9",
   "metadata": {},
   "source": [
    "# Floating point in C/C++\n",
    "\n",
    "While the standard does not require it, most C/C++ use the IEEE-754 standard for floating point arithmetic.\n",
    "\n",
    "As with integers, floating point in C/C++ reflects the capability of the hardware.  C/C++ has three types of floating point numbers, `float`, `double`, and `long double`.  The `double` in C/C++ is comparable to Python's `float`.\n",
    "\n",
    "The term `double` refers to **double precision**, the idea being that a `double` has twice the precision as a **single precision** `float`.  In practice a `double` will have twice the number of bits as a `float`.  \n",
    "\n",
    "The `long double` is implementation dependent.  Depending on the C implementation this type may be \n",
    "* more many bits than a `double`, or\n",
    "* the same number of bits as a `double`.\n",
    "\n",
    "On x86-64 architectures, `long double` is almost surely 80 bits."
   ]
  },
  {
   "cell_type": "markdown",
   "id": "0b9a8773",
   "metadata": {},
   "source": [
    "## Ranges of floating point numbers\n",
    "\n",
    "| IEEE-754 type | typical type in C/C++ | length | sign | significand | exponent | smallest positive value | largest positive value |\n",
    "| :-----------: | :----: | :------------: | :------------: | :-----------: | :------------: | :------------: | :-----------: |\n",
    "| binary32     | ```float``` | 32 bits | 1 bit | 23 + 1 bits | 8 bits | 2<sup>-126</sup> &#8776; 1.2 &#215; 10<sup>-38</sup> | (2 - 2<sup>-23</sup>) &#215; 2<sup>127</sup> &#8776; 3.4 &#215; 10<sup>38</sup> |\n",
    "| binary64     | ```double``` | 64 bits | 1 bit | 52 + 1 bits | 11 bits | 2<sup>-1022</sup> &#8776; 2.2 &#215; 10<sup>-308</sup> | (1 + (1 - 2<sup>-52</sup>)) &#215; 2<sup>1023</sup> &#8776; 1.8 &#215; 10<sup>308</sup> |\n",
    "| binary128 | possibly ```long double```<sup>1</sup> | 128 bits | 1 bit | 15 bits | 112 + 1 bits | 2<sup>−16382</sup> ≈ 3.4 × 10<sup>−4932</sup> | (1 + (1 - 2<sup>-122</sup>)) × 2<sup>16383</sup> ≈ 1.2 × 10<sup>4932</sup> |\n",
    "\n",
    "<sup>1</sup>But probably not.\n",
    "\n"
   ]
  },
  {
   "cell_type": "markdown",
   "id": "5a464cf8-0b97-4a67-a4d3-e331166992b0",
   "metadata": {},
   "source": [
    "## Half precision floating point\n",
    "\n",
    "IEEE-754 specifies a half precision 16 bit floating point:\n",
    "| IEEE-754 type | length | sign | significand | exponent | smallest positive value | largest positive value |\n",
    "| :-----------: | :------------: | :------------: | :-----------: | :------------: | :------------: | :-----------: |\n",
    "binary16     | 16 bits | 1 bit | 10 + 1 bits | 5 bits | 2<sup>-14</sup> &#8776; 6.1 &#215; 10<sup>-5</sup> | (2 - 2<sup>-10</sup>) &#215; 2<sup>15</sup> = 65504 |\n",
    "\n",
    "An alternative to IEEE <tt>binary16</tt> half precision is <tt>bfloat16</tt>, Brain floating point, developed by Google.  It is <tt>binary32</tt> with 16 bits of the significand lopped off.  It is less precise than <tt>binary16</tt> but has range comparable to <tt>binary32</tt>:\n",
    "| Non-IEEE-754 type | length | sign | significand | exponent | smallest positive value | largest positive value |\n",
    "| :-----------: | :----------: | :----------: | :--------: |  :----------: | :----------: | :--------: |\n",
    "bfloat16     | 16 bits | 1 bit | 7 + 1 bits | 7 bits | 2<sup>-126</sup> &#8776; 1.2 &#215; 10<sup>-38</sup> | (2 - 2<sup>−23</sup>) &#215; 2<sup>127</sup> &#8776; 3.4 &#215; 10<sup>38</sup> |\n",
    "\n",
    "C does not offer a half precision floating point (though C++23 and later do) but compilers frequently have extensions to support it, e.g.,\n",
    "* [gcc](https://gcc.gnu.org/onlinedocs/gcc/Half-Precision.html),\n",
    "* [clang](https://releases.llvm.org/16.0.0/tools/clang/docs/LanguageExtensions.html#half-precision-floating-point),\n",
    "* [icx](https://builders.intel.com/docs/networkbuilders/intel-avx-512-fp16-instruction-set-for-intel-xeon-processor-based-products-technology-guide-1651874188.pdf)."
   ]
  },
  {
   "cell_type": "code",
   "execution_count": null,
   "id": "03f4cc0f",
   "metadata": {},
   "outputs": [],
   "source": [
    "cat -n src/float_widths.c"
   ]
  },
  {
   "cell_type": "code",
   "execution_count": null,
   "id": "f5c825d3",
   "metadata": {},
   "outputs": [],
   "source": [
    "gcc src/float_widths.c"
   ]
  },
  {
   "cell_type": "code",
   "execution_count": null,
   "id": "a08875e3",
   "metadata": {},
   "outputs": [],
   "source": [
    "./a.out"
   ]
  },
  {
   "cell_type": "markdown",
   "id": "097a223e-15e1-4684-93ee-480367c8fa7d",
   "metadata": {},
   "source": [
    "## The special values ```inf``` and ```nan```\n",
    "\n",
    "There are two special floating point values, ```inf``` and ```nan```.\n",
    "\n",
    "The value ```inf``` is an infinite value $\\infty$.  It is larger than all other numbers except itself.  A quick way to obtain ```inf``` is to divide a non-zero number by zero.\n",
    "\n",
    "A quick way to obtain a ```nan``` is to divide 0.0 by itself."
   ]
  },
  {
   "cell_type": "code",
   "execution_count": null,
   "id": "e61d5ebb",
   "metadata": {},
   "outputs": [],
   "source": [
    "cat -n src/inf_nan.c"
   ]
  },
  {
   "cell_type": "code",
   "execution_count": null,
   "id": "45e0683d",
   "metadata": {},
   "outputs": [],
   "source": [
    "gcc src/inf_nan.c"
   ]
  },
  {
   "cell_type": "code",
   "execution_count": null,
   "id": "0b5c0b14",
   "metadata": {},
   "outputs": [],
   "source": [
    "./a.out"
   ]
  },
  {
   "cell_type": "markdown",
   "id": "2003b81b-cdfe-4c09-9171-48b97d0a82e8",
   "metadata": {},
   "source": [
    "Because `nan` is not a number it is not equal to any other number, and it is also not equal to itself!\n",
    "\n",
    "Any arithmetic involving a `nan` results in a `nan`, so once they creep into a calculation you will generally see them all over the place."
   ]
  },
  {
   "cell_type": "markdown",
   "id": "fcf68649-f1d7-41e2-94d2-04eea73e1c27",
   "metadata": {},
   "source": [
    "Floating point numbers will **underflow to zero** or **overflow to infinity** if they lie outside the range of representable numbers:"
   ]
  },
  {
   "cell_type": "code",
   "execution_count": null,
   "id": "0fc93c9b",
   "metadata": {},
   "outputs": [],
   "source": [
    "cat -n src/float_overflow.c"
   ]
  },
  {
   "cell_type": "code",
   "execution_count": null,
   "id": "eb2517ff",
   "metadata": {},
   "outputs": [],
   "source": [
    "gcc src/float_overflow.c"
   ]
  },
  {
   "cell_type": "code",
   "execution_count": null,
   "id": "cf998351",
   "metadata": {},
   "outputs": [],
   "source": [
    "./a.out"
   ]
  }
 ],
 "metadata": {
  "kernelspec": {
   "display_name": "Bash",
   "language": "bash",
   "name": "bash"
  },
  "language_info": {
   "codemirror_mode": "shell",
   "file_extension": ".sh",
   "mimetype": "text/x-sh",
   "name": "bash"
  }
 },
 "nbformat": 4,
 "nbformat_minor": 5
}
