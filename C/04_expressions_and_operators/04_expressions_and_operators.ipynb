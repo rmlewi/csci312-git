{
 "cells": [
  {
   "cell_type": "markdown",
   "id": "51ca513d-649f-408a-8fa7-7fc7f63ebabb",
   "metadata": {},
   "source": [
    "<div style=\"text-align:center;\">\n",
    "    <img src=\"http://www.cs.wm.edu/~rml/images/wm_horizontal_single_line_full_color.png\">\n",
    "    <h1>CSCI 312, Fall 2025</h1>\n",
    "    <h1>Effective C, Chapter 4\n",
    "    <h1>Expressions and operators</h1>\n",
    "</div>"
   ]
  },
  {
   "cell_type": "markdown",
   "id": "5a2697df-4f79-4034-9a1e-ff2a157de6eb",
   "metadata": {},
   "source": [
    "# Contents\n",
    "\n",
    "* [Assignments: lvalues and rvalues](#Assignments:-lvalues-and-rvalues)\n",
    "* [Side effects](#Side-effects)\n",
    "* [The unary increment and decrement](#The-unary-increment-and-decrement)\n",
    "* [Bitwise operators](#Bitwise-operators)\n",
    "    * [Bitwise `AND`, `OR`, `XOR`, and `NOT`](#Bitwise-AND,-OR,-XOR,-and-NOT)\n",
    "        * [Bitwise `AND`](#Bitwise-AND)\n",
    "        * [Bitwise `OR`](#Bitwise-OR)\n",
    "        * [Bitwise `XOR`](#Bitwise-XOR)\n",
    "        * [Bitwise `NOT`](#Bitwise-NOT)\n",
    "    * [Bitwise shifts](#Bitwise-shifts)\n",
    "        * [¡Cuidado! ¡llamas! 🦙🦙 🐞🐞](#¡Cuidado!--¡llamas!-🦙🦙-🐞🐞)\n",
    "    * [Further reading](#Further-reading)\n",
    "* [Booleans](#Booleans)\n",
    "    * [Boolean operators](#Boolean-operators)\n",
    "    * [Comparison operators](#Comparison-operators)\n",
    "    * [Boolean expressions](#Boolean-expressions)\n",
    "        * [Don't use `a <= x <= b`](#Don't-use-a-<=-x-<=-b)"
   ]
  },
  {
   "cell_type": "markdown",
   "id": "9f42c1f4-d08a-4382-b36c-92de7a215609",
   "metadata": {},
   "source": [
    "# Python vs C vs C++\n",
    "\n",
    "|           | Python          | C            | C++   | Java |\n",
    "| :--------:| :-------------: | :----------: | :---: | :---: |\n",
    "| bitwise `AND` | same as C   | `&`   | same as C   | same as C   |\n",
    "| bitwise inclusive `OR` | same as C |   `\\|`   | same as C   | same as C  |\n",
    "| bitwise exclusive ```OR``` | same as C   | `^`   | same as C | same as C |\n",
    "| one's complement | same as C   | `~`   | same as C | same as C   |\n",
    "| left shift | same as C | `<<` | same as C | same as C |\n",
    "| right shift | same as C | `>>` | same as C | same as C |\n",
    "| booleans: | `True, False` | `true, false` | same as C | same as C |\n",
    "| logical AND:      | `and` | `&&` | `&&` or `and` | same as C |\n",
    "| logical OR:      | `or` | <code>&#124;&#124;</code> | <code>&#124;&#124;</code> or `or` | same as C |\n",
    "| logical NOT:      | `not` | `!` | same as C | same as C |\n",
    "| comparison operators: | same as C | `<, <=, ==, !=, >=, >` | same<sup>1</sup> | same as C |\n",
    "| identity | `is` |  |\n",
    "| membership | `in` |  |\n",
    "| conditional expression | `expr1 if expr2 else expr3`  | `expr1 ? expr2 : expr3` | same as C | same as C|\n",
    "\n",
    "<sup>1</sup> C++20 added a [three-way comparison operator](https://en.cppreference.com/w/cpp/language/operator_comparison) `<=>`, also known as \"the spaceship\".  Amusingly, it acts like Fortran's arithmetic `if` that the Fortran standards committee has been trying to get rid of since 1990."
   ]
  },
  {
   "cell_type": "markdown",
   "id": "e9108cbf-da2d-4a44-b444-f0ca8be3469f",
   "metadata": {},
   "source": [
    "# Assignments: lvalues and rvalues\n",
    "\n",
    "Now is a good time to introduce the concepts of **lvalues** and **rvalues**.\n",
    "\n",
    "Roughly speaking, an **lvalue** is something that can be assigned to (and thus appear on the left-hand side of an assignment, while an **rvalue** is a value that can be assigned (and thus appear on the right-hand side of an assignment). \n",
    "\n",
    "In particular, temporary variables can be rvalues but not lvalues, as in the following code snippet:\n",
    "\n",
    "```\n",
    "int a = 42;\n",
    "int b = 54;\n",
    "int c;\n",
    "\n",
    "c = a + b;\n",
    "```\n",
    "\n",
    "Here `a + b` is an rvalue, while `a,b,c` are lvalues. It makes no sense to try to use the temporary `a + b` as an rvalue:\n",
    "\n",
    "```\n",
    "a + b = 6;  // Wut?\n",
    "```\n",
    "\n",
    "We will see **rvalue semantics** show up in a substantive way in C++ classes."
   ]
  },
  {
   "cell_type": "markdown",
   "id": "67de64a0-7bf2-4d90-8f10-0cbb687234d2",
   "metadata": {},
   "source": [
    "# Side effects\n",
    "\n",
    "A **side effect** is a change to the state of the execution environment, e.g., \n",
    "* i/o,\n",
    "* assignment,\n",
    "* calling a function that does any of these things.\n",
    "\n",
    "Side effects are most commonly discussed in connection with function calls.\n",
    "\n",
    "For instance, some authors suggest applying a random permutation before applying quicksort.  This has the side effect of changing the pseudo-random generator."
   ]
  },
  {
   "cell_type": "markdown",
   "id": "41dfc6d8-dad6-4c81-9e78-82856c1b9700",
   "metadata": {},
   "source": [
    "# The unary increment and decrement\n",
    "\n",
    "C/C++ has two special **unary operators** (i.e., there is only one operand) for increasing and decreasing a variable by 1.  These operators, `++` and `--`, exist because these operations are very common, particularly in `for` loops."
   ]
  },
  {
   "cell_type": "code",
   "execution_count": null,
   "id": "565d360f-43f1-472c-a954-4363a7ee2e4d",
   "metadata": {},
   "outputs": [],
   "source": [
    "cat -n src/increment.c"
   ]
  },
  {
   "cell_type": "markdown",
   "id": "d04d25e9-59ab-4f40-91a3-017557846504",
   "metadata": {},
   "source": [
    "These operators can either precede or follow the variable being incremented or decremented.  Their behavior depends on whether they are prefixes or suffixes:\n",
    "* ```++n``` (prefix increment) means increase the value of ```n``` by ```1``` and use the resulting value;\n",
    "* ```n++``` (suffix increment) means use the value of ```n``` and then increase the value of ```n``` by ```1```.\n",
    "\n",
    "The statements ```--n``` and ```n--``` behave similarly."
   ]
  },
  {
   "cell_type": "markdown",
   "id": "aacb3e7b-1438-4633-88fa-7f42d260cff0",
   "metadata": {},
   "source": [
    "These operations are usually part of some other statement.  Study the difference between the prefix and suffix versions closely:"
   ]
  },
  {
   "cell_type": "code",
   "execution_count": null,
   "id": "e6a0fcca-5536-4a02-91fe-7d0c0b984a3d",
   "metadata": {},
   "outputs": [],
   "source": [
    "gcc src/increment.c"
   ]
  },
  {
   "cell_type": "code",
   "execution_count": null,
   "id": "5766dde7-2588-4b55-8084-e5df45e270e3",
   "metadata": {},
   "outputs": [],
   "source": [
    "./a.out"
   ]
  },
  {
   "cell_type": "markdown",
   "id": "1b392964-d79c-45d3-ba55-53c7f03ecbc2",
   "metadata": {},
   "source": [
    "Sometimes it does not matter whether you use the prefix or suffix versions, but often it matters bigly:\n",
    "* ```++n``` ==> **increment ```n``` and then use the value of ```n```**;\n",
    "* ```n++``` ==> **use the value of ```n``` and then increment ```n```**."
   ]
  },
  {
   "cell_type": "markdown",
   "id": "b021989c-f6f4-43ce-ad03-e43835c64e7d",
   "metadata": {},
   "source": [
    "<img src=\"https://www.cs.wm.edu/~rml/images/danger.svg\" style=\"height: 30px;\"/>🐞🐞Using the wrong version of <code>++</code> and <code>--</code> (prefix vs suffix) is a common source of off-by-one errors (OBOEs). 🐞🐞<img src=\"https://www.cs.wm.edu/~rml/images/danger.svg\" style=\"height: 30px;\"/> "
   ]
  },
  {
   "cell_type": "markdown",
   "id": "dcdd9341-1413-4f27-ba50-018dff46b9a0",
   "metadata": {},
   "source": [
    "# Bitwise operators\n",
    "\n",
    "C/C++ has six operators for bit manipulation, also known as **bit twiddling**.  Python shares the same bitwise operators.\n",
    "\n",
    "These operators can only be applied to integers, but any flavor of integer is a valid operand."
   ]
  },
  {
   "cell_type": "markdown",
   "id": "6b7f0bb1-4052-4e57-a501-f4e3b13f659c",
   "metadata": {},
   "source": [
    "## Bitwise `AND`, `OR`, `XOR`, and `NOT`\n",
    "\n",
    "The first three of the following operators take two operands, while the last one takes only a single operand:\n",
    "<pre>\n",
    "&amp;      bitwise AND\n",
    "|      bitwise inclusive OR (OR)\n",
    "^      bitwise exclusive OR (XOR)\n",
    "~      one's complement (NOT)\n",
    "</pre>\n",
    "These operators are applied bitwise.  The bits are either 0 or 1; the resulting values are\n",
    "\n",
    "| AND   |       | OR    |       |XOR    |       | NOT   |\n",
    "| :---: | :---: | :---: | :---: | :---: | :---: | :---: |\n",
    "|```1 & 1 = 1``` | | ```1 \\| 1 = 1``` | | ```1 ^ 1 = 0``` | | ```~1 = 0``` |\n",
    "|```1 & 0 = 0``` | | ```1 \\| 0 = 1``` | | ```1 ^ 0 = 1``` | | ```~0 = 1``` |\n",
    "|```0 & 1 = 0``` | | ```0 \\| 1 = 1``` | | ```0 ^ 1 = 1``` | |              |\n",
    "|```0 & 0 = 0``` | | ```0 \\| 0 = 1``` | | ```0 ^ 0 = 0``` | |              |\n",
    "\n",
    "You can remember these values by thinking of `1` as `true` and `0` as `false`."
   ]
  },
  {
   "cell_type": "markdown",
   "id": "9bb6e45c-801a-4f8a-9889-2cbf6de348e0",
   "metadata": {},
   "source": [
    "Let's look at some examples.\n",
    "\n",
    "Consider the integers 42 and 54, written out as 32 bit integers:\n",
    "<pre>\n",
    "42 = 00000000 00000000 00000000 00101010\n",
    "54 = 00000000 00000000 00000000 00110110\n",
    "</pre>\n",
    "We can ignore the leading zeroes for the purposes of applying ```&```, ```|```, and ```^``` since none of these operations will change the leading bits."
   ]
  },
  {
   "cell_type": "code",
   "execution_count": null,
   "id": "15bb9937-bd60-4fe2-bf95-8cd37491ce92",
   "metadata": {},
   "outputs": [],
   "source": [
    "cat -n src/twiddling.c"
   ]
  },
  {
   "cell_type": "code",
   "execution_count": null,
   "id": "8d0eb6b4-27bb-4eb7-a765-54bdde252014",
   "metadata": {},
   "outputs": [],
   "source": [
    "gcc -std=c23 src/twiddling.c"
   ]
  },
  {
   "cell_type": "code",
   "execution_count": null,
   "id": "efe070fa-e205-488d-9f88-d9c4c5ce2353",
   "metadata": {},
   "outputs": [],
   "source": [
    "./a.out"
   ]
  },
  {
   "cell_type": "markdown",
   "id": "e9ad90e1-0f12-4a80-9810-ac135b6f41e5",
   "metadata": {},
   "source": [
    "### Bitwise AND\n",
    "\n",
    "First we will take the bitwise AND.  We line up the bits and look at the pairs of corresponding bits.  If both are 1 the result is 1; otherwise it is 0 (e.g., 1 & 0 = false AND false = false).\n",
    "\n",
    "<pre>\n",
    "42      = 101010\n",
    "54      = 110110\n",
    "42 & 54 = 100010 = 32 + 2 = 34\n",
    "</pre> "
   ]
  },
  {
   "cell_type": "markdown",
   "id": "eb06229f-46f7-4da4-9ee8-883495128792",
   "metadata": {},
   "source": [
    "We can use the bitwise AND to mask (turn off) specific bits.  For instance, the number ```0177``` is octal (base-8) ```177```.  This is decimal 127 (64 + 7&#42;8 + 7), which is binary ```1111111```.\n",
    "\n",
    "*Aside.* We can also derive the binary expansion as follows.  Octal digits are three bit binary numbers.  In this case,\n",
    "<pre>\n",
    "1 =   1\n",
    "7 = 111\n",
    "7 = 111\n",
    "</pre>\n",
    "so putting these bits together we obtain \n",
    "<pre>\n",
    "octal 177 = binary 1 111 111\n",
    "</pre>\n",
    "\n",
    "The statement\n",
    "<code>\n",
    "    n = n & 01777\n",
    "</code>\n",
    "sets all but the low-order 7 bits of ```n```to zero because the value ```0177``` is padded on the left with enough zeros to perform the bitwise AND:\n",
    "<pre>\n",
    "2 * 2147483647u          = 11111111 11111111 11111111 11111110\n",
    "0177                     = 00000000 00000000 00000000 01111110\n",
    "(2 * 2147483647u) & 0177 = 00000000 00000000 00000000 01111110 = 126\n",
    "</pre>"
   ]
  },
  {
   "cell_type": "markdown",
   "id": "8d002bd3-a4c8-4dfe-8820-4ac865ddad79",
   "metadata": {},
   "source": [
    "We have to use `2147483647u` rather than `2147483647` since the latter is a signed integer and `2 * 2147483647` will overflow:\n",
    "\n",
    "`printf(\"%u\\n\", ((2 * 2147483647u)) & 0177);`\n",
    "\n",
    "vs.\n",
    "\n",
    "`printf(\"%d\\n\", 2 * 2147483647);`"
   ]
  },
  {
   "cell_type": "markdown",
   "id": "72576623-5af6-468b-ab3e-dbc16ce0581e",
   "metadata": {},
   "source": [
    "### Bitwise OR\n",
    "\n",
    "In the bitwise OR w again line up the bits and look at the pairs of corresponding bits.  If one or both are 1 (e.g., 1 | 0 = true OR false = true) the result is 1; otherwise it is 0 (0 | 0 = false OR false = false).\n",
    "\n",
    "<pre>\n",
    "42      = 101010\n",
    "54      = 110110\n",
    "42 | 54 = 111110 = 32 + 16 + 8 + 4 + 2 = 62\n",
    "</pre>"
   ]
  },
  {
   "cell_type": "markdown",
   "id": "96ecd4ef-33ee-4bfa-a7d5-32536bbbeff0",
   "metadata": {},
   "source": [
    "### Bitwise XOR\n",
    "\n",
    "In the bitwise XOR, if exactly one bit in a pair is 1 the result is 1; otherwise it is 0.\n",
    "\n",
    "<pre>\n",
    "42      = 101010\n",
    "54      = 110110\n",
    "42 ^ 54 = 011100 = 16 + 8 + 4 = 28\n",
    "</pre> "
   ]
  },
  {
   "cell_type": "markdown",
   "id": "044d653b-abf0-4bef-b7f3-843b9fefefc5",
   "metadata": {},
   "source": [
    "The exclusive OR is used extensively in cryptography since it is easily invertible:"
   ]
  },
  {
   "cell_type": "markdown",
   "id": "e7fe3e3f-2d43-4359-80d1-5f47d60ec672",
   "metadata": {},
   "source": [
    "```\n",
    "printf(\"%u\\n\", 42 ^ (42 ^ 54));  // a ^ (a ^ b) = b\n",
    "printf(\"%u\\n\", 54 ^ (42 ^ 54));  // b ^ (a ^ b) = a\n",
    "```"
   ]
  },
  {
   "cell_type": "markdown",
   "id": "e73649b5-1cd9-45a0-9e3d-428d53af748d",
   "metadata": {},
   "source": [
    "### Bitwise `NOT`\n",
    "\n",
    "Applying the one's complement ```~``` turns 0 bits to 1 and 1 bits to 0.  Since this operation will change zero bits we need to take the leading bits into account.\n",
    "<pre>\n",
    " 42 = 00000000 00000000 00000000 00101010\n",
    "~42 = 11111111 11111111 11111111 11010101\n",
    "    = 256 * (2**24 - 1) + 128 + 64 + 16 + 4 + 1\n",
    "    = 4294967253\n",
    "</pre>"
   ]
  },
  {
   "cell_type": "markdown",
   "id": "af991d2a-0c5c-4808-985e-df63af949245",
   "metadata": {},
   "source": [
    "## Bitwise shifts\n",
    "\n",
    "The shift operators shift bits left or right.\n",
    "<pre>\n",
    "&lt;&lt;   left shift\n",
    "&gt;&gt;   right shift\n",
    "</pre>\n",
    "These operators take two operands; the left operand is the number to be shifted and the right operand is the number of bit positions to shift.  Thus <code>n &lt;&lt; 2</code> shifts the bits in <code>n</code> two bits to the left.  Zero bits take the place of vacated bits.  **Bits that are shifted past either end disappear.**\n",
    "\n",
    "Let's look at the effect of left and right shifts, first using base-10 numbers.  Here we shift one decimal digit to the left:\n",
    "<pre>\n",
    "    12\n",
    "   120\n",
    "  1200\n",
    " 12000\n",
    "120000\n",
    "</pre>\n",
    "This has the effect of multiplying by 10 with each shift.\n",
    "\n",
    "Now let's shift right:\n",
    "<pre>\n",
    "120000\n",
    " 12000\n",
    "  1200\n",
    "   120\n",
    "    12\n",
    "</pre>\n",
    "This has the effect of dividing by 10 with each shift.  More generally, this is integer division by 10, which throws away any remainder:\n",
    "<pre>\n",
    "121111\n",
    " 12111\n",
    "  1211\n",
    "   121\n",
    "    12\n",
    "</pre>\n",
    "Shifting by $k$ decimal digits makes a factor of $10^{k}$ change.\n",
    "\n",
    "The same holds for base-2:\n",
    "* a one-bit left shift is the same as multiplication by 2, and\n",
    "* a one-bit right shift is the same as integer division by 2.\n",
    "\n",
    "Left shift:\n",
    "<pre>\n",
    "    1 =  1\n",
    "   10 =  2\n",
    "  100 =  4\n",
    " 1000 =  8\n",
    "10000 = 16\n",
    "</pre>\n",
    "\n",
    "Right shift:\n",
    "<pre>\n",
    "10011 = 19\n",
    " 1001 =  9\n",
    "  100 =  4\n",
    "   10 =  2\n",
    "    1 =  1\n",
    "</pre>\n",
    "\n",
    "Shifting by $k$ bits makes a factor of $2^{k}$ change in the operand."
   ]
  },
  {
   "cell_type": "markdown",
   "id": "d6a2168c-cb3f-486a-a787-795b0c2d031f",
   "metadata": {},
   "source": [
    "Notice that eventually we shift all the on bits off the left end of the integer and obtain 0.\n",
    "\n",
    "Similarly, if we right shift enough times we will shift all the on bits off the right end:"
   ]
  },
  {
   "cell_type": "markdown",
   "id": "1697b0d5-2b91-4f3c-a708-22b48a836c1c",
   "metadata": {},
   "source": [
    "## &iexcl;Cuidado!  &iexcl;llamas! 🦙🦙 🐞🐞\n",
    "\n",
    "You need to be extra careful if you apply the bitwise shift operators to signed integers.  From Section 6.5.8, Bitwise shift operators, in the C23 standard (emphasis mine):\n",
    "<blockquote>\n",
    "4 The result of E1 &lt;&lt; E2 is E1 left-shifted E2 bit positions; vacated bits are filled with zeros. If E1 has an unsigned type, the value of the result is E1 $\\times$ $2^{\\mathrm{E2}}$, reduced modulo one more than the maximum value representable in the result type.  <b>If E1 has a signed type and nonnegative value, and E1 $\\times$ $2^{\\mathrm{E2}}$ is representable in the result type, then that is the resulting value; otherwise, **the behavior is undefined**.</b>\n",
    "\n",
    "5 The result of E1 &gt;&gt; E2 is E1 right-shifted E2 bit positions. If E1 has an unsigned type or if E1 has a signed type and a nonnegative value, the value of the result is the integral part of the quotient of E1 / $2^{\\mathrm{E2}}$. <b>If E1 has has a signed type and a negative value, the resulting value is **implementation-defined**.</b>\n",
    "</blockquote>\n",
    "\n",
    "Terms like \"undefined behavior\" or \"implementation-dependent behavior\" mean **TROUBLE AHEAD**."
   ]
  },
  {
   "cell_type": "markdown",
   "id": "a47a968a-32ea-493d-a9f9-8fb6e5dd1b86",
   "metadata": {},
   "source": [
    "<img  src=\"https://www.cs.wm.edu/~rml/images/danger.svg\" style=\"height: 30px;\"/> Avoid shifting signed integers.  If you absolutely must, run some experiments to make sure you are certain of the behavior on your system."
   ]
  },
  {
   "cell_type": "markdown",
   "id": "39a5d1df-dd47-4cd4-abfc-2b6be24f823a",
   "metadata": {},
   "source": [
    "## Further reading on bit twiddling\n",
    "\n",
    "You can find an cornucopia of clever and entertaining bit twiddling hacks [here](https://graphics.stanford.edu/~seander/bithacks.html)."
   ]
  },
  {
   "cell_type": "markdown",
   "id": "1533b70d",
   "metadata": {},
   "source": [
    "# Booleans\n",
    "\n",
    "Boolean variables can take on one of two values, ```true``` and ```false```.  Originally C did not have a boolean type.  Instead,\n",
    "* ```true``` was represented by 1, and\n",
    "* ```false``` was represented by 0.\n",
    "\n",
    "These can still be used.\n",
    "\n",
    "Booleans **finally** became a first-class type in C23.  The type name is `bool`.  They are still printed as integers, however."
   ]
  },
  {
   "cell_type": "code",
   "execution_count": null,
   "id": "dffd976a",
   "metadata": {},
   "outputs": [],
   "source": [
    "cat -n src/booleans.c"
   ]
  },
  {
   "cell_type": "markdown",
   "id": "d205f37b",
   "metadata": {},
   "source": [
    "As you can see, [as in Python](https://docs.python.org/3/library/stdtypes.html#truth-value-testing), anything that has a non-zero value converts to ```true```, and anything that has the value ```0``` converts ```false```."
   ]
  },
  {
   "cell_type": "markdown",
   "id": "03ea68de",
   "metadata": {},
   "source": [
    "Let's build the executable using the ```clang``` compiler rather than the `gcc` compiler:"
   ]
  },
  {
   "cell_type": "code",
   "execution_count": null,
   "id": "e018aca2",
   "metadata": {},
   "outputs": [],
   "source": [
    "clang -Wall -pedantic src/booleans.c"
   ]
  },
  {
   "cell_type": "code",
   "execution_count": null,
   "id": "a3a1a4df",
   "metadata": {},
   "outputs": [],
   "source": [
    "./a.out"
   ]
  },
  {
   "cell_type": "markdown",
   "id": "682843b9",
   "metadata": {},
   "source": [
    "You should see a warning about an implicit conversion from ```double``` to ```_Bool```.  This is because the conversion is a **narrowing conversion** which takes a variable and converts it to one that is less expressive."
   ]
  },
  {
   "cell_type": "markdown",
   "id": "0877c589",
   "metadata": {},
   "source": [
    "## Boolean operators\n",
    "\n",
    "C/C++ use the following notation:\n",
    "* logical AND: ```&&```\n",
    "* logical OR: ```||```\n",
    "* logical NOT: ```!```\n",
    "\n",
    "Alternatively, if you include [the `iso646.h` header file](https://en.cppreference.com/w/cpp/language/operator_alternative.html) you can use words like `and` and `or`."
   ]
  },
  {
   "cell_type": "code",
   "execution_count": null,
   "id": "9e5ce9b8",
   "metadata": {},
   "outputs": [],
   "source": [
    "cat -n src/and_or_not.c"
   ]
  },
  {
   "cell_type": "code",
   "execution_count": null,
   "id": "938fcd01",
   "metadata": {},
   "outputs": [],
   "source": [
    "gcc -std=c23 -pedantic -Wall src/and_or_not.c"
   ]
  },
  {
   "cell_type": "code",
   "execution_count": null,
   "id": "5554adef",
   "metadata": {},
   "outputs": [],
   "source": [
    "./a.out"
   ]
  },
  {
   "cell_type": "markdown",
   "id": "93f9a5bb",
   "metadata": {},
   "source": [
    "<img src=\"https://www.cs.wm.edu/~rml/images/danger.svg\" style=\"height: 30px\"> Be sure to use <code>&amp;&amp;</code> and <code>||</code> and not accidentally use a single <code>&amp;</code> or <code>|</code>.  The latter are bitwise AND and bitwise OR.  \n",
    "\n",
    "<a href=\"https://arstechnica.com/gadgets/2021/07/google-pushed-a-one-character-typo-to-production-bricking-chrome-os-devices/\" target=\"_blank\">This article</a> describes how an <code>&amp;</code> instead of <code>&amp;&amp;</code> in an update caused Google to lock users out of their ChromeOS devices."
   ]
  },
  {
   "cell_type": "markdown",
   "id": "01cca993",
   "metadata": {},
   "source": [
    "## Comparison operators\n",
    "\n",
    "The comparison operators in C/C++ are the same as in Python:\n",
    "* less than: ```<```\n",
    "* less than or equal to: ```<=```\n",
    "* equal to: ```==```\n",
    "* not equal to: ```!=```\n",
    "* greater than or equal to: ```>=```\n",
    "* greater than: ```>```"
   ]
  },
  {
   "cell_type": "markdown",
   "id": "facc5598",
   "metadata": {},
   "source": [
    "<img src=\"https://www.cs.wm.edu/~rml/images/danger.svg\" style=\"height: 30px\"/> C and C++ do not have anything comparable to Python's ```is``` or ```in``` statements."
   ]
  },
  {
   "cell_type": "code",
   "execution_count": null,
   "id": "93f3c256",
   "metadata": {},
   "outputs": [],
   "source": [
    "cat -n src/comparison.c"
   ]
  },
  {
   "cell_type": "code",
   "execution_count": null,
   "id": "a32a8f05",
   "metadata": {},
   "outputs": [],
   "source": [
    "clang -pedantic -Wall src/comparison.c"
   ]
  },
  {
   "cell_type": "code",
   "execution_count": null,
   "id": "9e7aab16",
   "metadata": {},
   "outputs": [],
   "source": [
    "./a.out"
   ]
  },
  {
   "cell_type": "markdown",
   "id": "9bddabd8",
   "metadata": {},
   "source": [
    "## Boolean expressions\n",
    "\n",
    "Boolean expressions in C work the samw way as they do in Python, **except when they don't.**"
   ]
  },
  {
   "cell_type": "markdown",
   "id": "f5e2a4ea",
   "metadata": {},
   "source": [
    "### Don't use `a <= x <= b`\n",
    "\n",
    "In Python, ```a <= x <= b``` will evaluate to <code class=\"kw\">True</code> if ```x``` lies in the interval $[a, b]$.\n",
    "\n",
    "In C, ```a <= x <= b``` will be evaluated as ```(a <= x) <= b```.  Since ```a <= x``` will be either 0 or 1 (false or true), then **if ```b``` is greater than or equal to 1, the statement ```a <= x <= b``` will always evaluate to true!**"
   ]
  },
  {
   "cell_type": "code",
   "execution_count": null,
   "id": "8cbf92b0",
   "metadata": {},
   "outputs": [],
   "source": [
    "cat -n src/bool_exp.c"
   ]
  },
  {
   "cell_type": "code",
   "execution_count": null,
   "id": "e688ab1d",
   "metadata": {},
   "outputs": [],
   "source": [
    "clang -pedantic -Wall src/bool_exp.c"
   ]
  },
  {
   "cell_type": "markdown",
   "id": "b60d161f",
   "metadata": {},
   "source": [
    "Notice `clang` warns us about the problematic statement at line 8.  You might not always be so fortunate as to get a compiler warning, however, and the statement at line 14 slips by unremarked."
   ]
  },
  {
   "cell_type": "code",
   "execution_count": null,
   "id": "98a5356c",
   "metadata": {},
   "outputs": [],
   "source": [
    "./a.out"
   ]
  },
  {
   "cell_type": "markdown",
   "id": "bf54feea",
   "metadata": {},
   "source": [
    "The expression ```a <= x <= b``` is valid C, but likely not what you intended.  If you are lucky, your compiler will warn you about a possible error."
   ]
  },
  {
   "cell_type": "markdown",
   "id": "cd7089cf",
   "metadata": {},
   "source": [
    "<div class=\"danger\"></div> Don't use <code>a <= x <= b</code> in C."
   ]
  },
  {
   "cell_type": "markdown",
   "id": "ac1b586a",
   "metadata": {},
   "source": [
    "### Assignment expressions: watch out for `=` vs. `==`\n",
    "\n",
    "Another error that one can make in C is using ```=``` instead of ```==```:"
   ]
  },
  {
   "cell_type": "code",
   "execution_count": null,
   "id": "c9fbfbfa",
   "metadata": {},
   "outputs": [],
   "source": [
    "cat -n src/assign_exp.c"
   ]
  },
  {
   "cell_type": "code",
   "execution_count": null,
   "id": "562871a7",
   "metadata": {},
   "outputs": [],
   "source": [
    "clang -pedantic -Wall src/assign_exp.c"
   ]
  },
  {
   "cell_type": "code",
   "execution_count": null,
   "id": "c64ecc6f",
   "metadata": {},
   "outputs": [],
   "source": [
    "./a.out"
   ]
  },
  {
   "cell_type": "markdown",
   "id": "0634bf19",
   "metadata": {},
   "source": [
    "In the statement\n",
    "<pre>\n",
    "    if (x = 54) {...}\n",
    "</pre>\n",
    "\n",
    "at line 8 the value `54` is first assigned to `x`, and then `x` is converted to a boolean.  Since the value is non-zero, the boolean evaluates to ```true```.  **This means the `if` block is always executed!**\n",
    "\n",
    "In C/C++ and Python this construct is called an **assignment expression**. Assignment expressions also appear in Python starting with Python 3.8 as the [walrus operator](https://docs.python.org/3/reference/expressions.html?highlight=walrus#assignment-expressions) `:=`.  In C, regular assignment `=` has the same effect, increasing the likelihood of errors.\n",
    "\n",
    "If you are lucky, the compiler will issue a warning, as it does in this case.\n",
    "\n",
    "This error cannot occur in Python, since Python uses the walrus operator ```:=``` for assignment expressions, and\n",
    "<pre>\n",
    "    if x = 54:    \n",
    "</pre>\n",
    "is not a valid statement."
   ]
  },
  {
   "cell_type": "markdown",
   "id": "ac2b0162",
   "metadata": {},
   "source": [
    "<img src=\"https://www.cs.wm.edu/~rml/images/danger.svg\" style=\"height: 30px\"> Watch out for <code>=</code> where you mean <code>==</code>."
   ]
  },
  {
   "cell_type": "markdown",
   "id": "112f4b70",
   "metadata": {},
   "source": [
    "### Using assignment expressions in C\n",
    "\n",
    "C hackers **love** to use assignment expressions because used properly they can lead to shorter and clearer code (or shorter and more cryptic code).\n",
    "\n",
    "For instance, consider the following code to read a file one character at a time and write each character to the screen:"
   ]
  },
  {
   "cell_type": "code",
   "execution_count": null,
   "id": "00d63d59",
   "metadata": {},
   "outputs": [],
   "source": [
    "cat -n src/assign_exp2.c"
   ]
  },
  {
   "cell_type": "markdown",
   "id": "550710bc",
   "metadata": {},
   "source": [
    "While functional this code is a bit ugly:\n",
    "* we call ```getc()``` in two different places,\n",
    "* reading the first character is a special case, and\n",
    "* ```c``` starts the loop as the current character being processed but then changes to be the next character.\n",
    "\n",
    "We can simplify the code using assignment expressions as follows:"
   ]
  },
  {
   "cell_type": "code",
   "execution_count": null,
   "id": "0f11359c",
   "metadata": {},
   "outputs": [],
   "source": [
    "cat -n src/assign_exp3.c"
   ]
  },
  {
   "cell_type": "markdown",
   "id": "bb6681ca",
   "metadata": {},
   "source": [
    "Rewriting the code this way is cleaner:\n",
    "* the code is shorter,\n",
    "* there is only one reference to ```getc()```,\n",
    "* reading the first character is no longer a special case, and\n",
    "* ```c``` is always the current character being processed.\n",
    "\n",
    "The logic of the ```while``` loop also reads more clearly:\n",
    "<blockquote>\n",
    "Read the next character into <code>c</code> and if it is not the end-of-file print <code>c</code> to the screen.\n",
    "</blockquote>"
   ]
  },
  {
   "cell_type": "code",
   "execution_count": null,
   "id": "f5b287a2",
   "metadata": {},
   "outputs": [],
   "source": [
    "clang -pedantic -Wall src/assign_exp3.c"
   ]
  },
  {
   "cell_type": "code",
   "execution_count": null,
   "id": "0ca59e82",
   "metadata": {},
   "outputs": [],
   "source": [
    "./a.out"
   ]
  },
  {
   "cell_type": "markdown",
   "id": "2c529fbb",
   "metadata": {},
   "source": [
    "If opening the file fails, `fopen()` returns the special value `nullptr` (or `NULL`, prior to C23).  We can incorporate a check for this using the same idiom:"
   ]
  },
  {
   "cell_type": "code",
   "execution_count": null,
   "id": "61b446cc",
   "metadata": {},
   "outputs": [],
   "source": [
    "cat -n src/assign_exp4.c"
   ]
  },
  {
   "cell_type": "code",
   "execution_count": null,
   "id": "a3b00fc6",
   "metadata": {},
   "outputs": [],
   "source": [
    "clang -pedantic -Wall -std=c23 src/assign_exp4.c"
   ]
  },
  {
   "cell_type": "code",
   "execution_count": null,
   "id": "562fc121",
   "metadata": {},
   "outputs": [],
   "source": [
    "./a.out"
   ]
  },
  {
   "cell_type": "markdown",
   "id": "f9141215",
   "metadata": {},
   "source": [
    "## The numerical value of a boolean expression\n",
    "\n",
    "C/C++ and Python \"short-circuit\" the evaluation of compound boolean expressions.  Reading from left to right all of these languages stop evaluation as soon as the truth or falseness of an expression can be determined.\n",
    "\n",
    "For instance, in the compound expression\n",
    "<code>\n",
    "    expr1 or expr2 or expr3\n",
    "</code>\n",
    "suppose ```expr1``` is false but ```expr2``` is true.  As soon as we encounter the true expression ```expr2``` we know the compound statement is true and ```expr3``` will not be evaluated.\n",
    "\n",
    "In these situations Python may return a result whose numerical value is not 0 or 1, while C/C++ will always return a result whose numerical value is 0 or 1."
   ]
  },
  {
   "cell_type": "markdown",
   "id": "3ab5b295",
   "metadata": {},
   "source": [
    "In Python,\n",
    "<code>\n",
    "    n = (1 >= 2) or (3.14)\n",
    "</code>\n",
    "will result in ```n``` having the value ```3.14``` because for a boolean expression Python returns the first value it encounters that allows it to determine the truth or falseness of the expression.\n",
    "\n",
    "In C/C++, \n",
    "<code>\n",
    "    n = (1 >= 2) or (3.14)\n",
    "</code>\n",
    "will result in ```n``` having the value ```1```."
   ]
  },
  {
   "cell_type": "markdown",
   "id": "9604a114",
   "metadata": {},
   "source": [
    "<img src=\"https://www.cs.wm.edu/~rml/images/danger.svg\" style=\"height: 30px\"> The numerical value of a boolean expression in C/C++ will always be 0 or 1."
   ]
  },
  {
   "cell_type": "markdown",
   "id": "d421c6ac",
   "metadata": {},
   "source": [
    "# Conditional expressions\n",
    "\n",
    "C/C++/Java, [like Python](https://docs.python.org/3/reference/expressions.html?highlight=assignment%20expression#conditional-expressions), have conditional expressions.  In C/C++ the conditional expression\n",
    "<pre>\n",
    "    m = (a > b) ? a : b;\n",
    "</pre>\n",
    "is equivalent to\n",
    "<pre>\n",
    "    if (a > b) {\n",
    "        m = a;\n",
    "    }\n",
    "    else {\n",
    "        m = b;\n",
    "    }\n",
    "</pre>\n",
    "\n",
    "The general syntax is\n",
    "<pre>\n",
    "    expr1 ? expr2 : expr3\n",
    "</pre>\n",
    "\n",
    "If `expr1` is true, the conditional expression evaluates to `expr2`; otherwise it evaluates to `expr3`.\n",
    "\n",
    "Here we rewrite `conditional.c` using conditional expressions; the new version is much, much shorter."
   ]
  },
  {
   "cell_type": "code",
   "execution_count": null,
   "id": "9fed9e0a",
   "metadata": {},
   "outputs": [],
   "source": [
    "cat -n src/comparison2.c"
   ]
  },
  {
   "cell_type": "code",
   "execution_count": null,
   "id": "eab3eb43",
   "metadata": {},
   "outputs": [],
   "source": [
    "clang -pedantic -Wall src/comparison2.c"
   ]
  },
  {
   "cell_type": "code",
   "execution_count": null,
   "id": "1e6173d7",
   "metadata": {},
   "outputs": [],
   "source": [
    "./a.out"
   ]
  },
  {
   "cell_type": "markdown",
   "id": "7d274392",
   "metadata": {},
   "source": [
    "Let's rewrite the lengthy set of ```if-else``` blocks above in the section on comparison operators:"
   ]
  },
  {
   "cell_type": "markdown",
   "id": "bbaed459",
   "metadata": {},
   "source": [
    "Here we use a conditional expression to correctly handle the singular vs plural of hour:"
   ]
  },
  {
   "cell_type": "code",
   "execution_count": null,
   "id": "69ef36f1",
   "metadata": {},
   "outputs": [],
   "source": [
    "cat -n src/duration.c"
   ]
  },
  {
   "cell_type": "code",
   "execution_count": null,
   "id": "89169497",
   "metadata": {},
   "outputs": [],
   "source": [
    "gcc src/duration.c"
   ]
  },
  {
   "cell_type": "code",
   "execution_count": null,
   "id": "49ac57a4-b15c-46be-9a98-490c5f514dca",
   "metadata": {},
   "outputs": [],
   "source": [
    "./a.out"
   ]
  },
  {
   "cell_type": "markdown",
   "id": "2384b7bc-8e63-485c-9fd6-36290bb4771f",
   "metadata": {},
   "source": [
    "<img src=\"https://www.cs.wm.edu/~rml/images/danger.svg\" style=\"height: 30px\"> K&amp;R recommend placing the boolean condition in paretheses even though it is not required in order to make it easier to see.  I concur."
   ]
  },
  {
   "cell_type": "markdown",
   "id": "dff6ecc0-7946-4b2a-882e-085766ab1d48",
   "metadata": {},
   "source": [
    "# The comma operator\n",
    "\n",
    "In most situations the C standard does not specify the order of operations.  For instance, in the expression\n",
    "<pre>\n",
    "    x = f() + g();\n",
    "</pre>\n",
    "it might not be the case that `f()` is evaluated first.  This can lead to problems if the two functions share some common state they both change.\n",
    "\n",
    "Similarly, the behavior of the expression\n",
    "<pre>\n",
    "    i = i + i++;\n",
    "</pre>\n",
    "is undefined, since it is not clear when `i` is incremented.\n",
    "\n",
    "To keep the order of operations under control C/C++ has the notion of **sequence points**.  Per the C standard:\n",
    "<blockquote>\n",
    "The presence of a sequence point between the evaluation of expressions A and B implies that every value computation and side effect associated with A is sequenced before every value computation and side effect associated with B. (A summary of the sequence points is given in Annex C.)    \n",
    "</blockquote>\n",
    "\n",
    "For instance, the standard specifies a sequence point between the evaluation of the first and second operands of logical `AND`.  The presence of the sequence point makes it possible for `AND` to \"short-circuit\" and return `false` if the first operand is false.\n",
    "\n",
    "The comma operator allows us to ensure that one expression is evaluated before the other.  Here is an example to contemplate."
   ]
  },
  {
   "cell_type": "code",
   "execution_count": null,
   "id": "96378dfc-e0b1-463e-8ce2-c6053247c33c",
   "metadata": {},
   "outputs": [],
   "source": [
    "cat -n src/comma.c"
   ]
  },
  {
   "cell_type": "code",
   "execution_count": null,
   "id": "a16ada98-62ea-4eac-a2e2-1594e6f03e66",
   "metadata": {},
   "outputs": [],
   "source": [
    "gcc src/comma.c"
   ]
  },
  {
   "cell_type": "code",
   "execution_count": null,
   "id": "3858d4be-41ba-42d1-8bf5-331f5778349b",
   "metadata": {},
   "outputs": [],
   "source": [
    "./a.out"
   ]
  },
  {
   "cell_type": "markdown",
   "id": "617994fd-dbb0-4c97-b195-82dc22280bc3",
   "metadata": {},
   "source": [
    "# Pointer arithmetic\n",
    "\n",
    "You can add integers to pointers, and take the difference of pointers.  This can be useful when debugging memory access errors, among other things.\n",
    "\n",
    "Suppose `p` is pointer to thingies of type `T`, and `k` is an integer.  Then `p + k` is the location in memory that is `k * sizeof(T)` bytes from `p`.\n",
    "\n",
    "If an `int` is 4 bytes and a `double` is 8 bytes, then\n",
    "<pre>\n",
    "    int a[42;\n",
    "    double x[54]\n",
    "    a + 3;    // The address that is 3 ints (12 bytes) from the start of a[].\n",
    "    *(a + 3)  // This is the same as a[3].\n",
    "    x + 6;    // The address that is 6 doubles (48 bytes) from the start of x[].\n",
    "</pre>\n",
    "\n"
   ]
  },
  {
   "cell_type": "code",
   "execution_count": null,
   "id": "64dd844e-72a5-4f7d-ac04-36a76a2b24c5",
   "metadata": {},
   "outputs": [],
   "source": [
    "cat -n src/pointer.c"
   ]
  },
  {
   "cell_type": "code",
   "execution_count": null,
   "id": "584e104b-cace-457f-ba2f-5933d24d6dd1",
   "metadata": {},
   "outputs": [],
   "source": [
    "gcc src/pointer.c"
   ]
  },
  {
   "cell_type": "code",
   "execution_count": null,
   "id": "7ca16192-d948-49cf-a077-bab3a8b848d2",
   "metadata": {},
   "outputs": [],
   "source": [
    "./a.out"
   ]
  },
  {
   "cell_type": "markdown",
   "id": "95311d79-a627-48ec-91dd-1b0ad96c3609",
   "metadata": {},
   "source": [
    "The technically not allowed subtraction shows that the array `b` begins 54 `int`s before `a`.  So `b` precedes `a` in memory, even though `a` appears first in the code.  It also shows that there is no space in memory between `a` and `b`.  Thus, when we write to `b[54]` we are writing one `int` past the end of `b`, which is the location of `a[0]`."
   ]
  }
 ],
 "metadata": {
  "kernelspec": {
   "display_name": "Bash",
   "language": "bash",
   "name": "bash"
  },
  "language_info": {
   "codemirror_mode": "shell",
   "file_extension": ".sh",
   "mimetype": "text/x-sh",
   "name": "bash"
  }
 },
 "nbformat": 4,
 "nbformat_minor": 5
}
